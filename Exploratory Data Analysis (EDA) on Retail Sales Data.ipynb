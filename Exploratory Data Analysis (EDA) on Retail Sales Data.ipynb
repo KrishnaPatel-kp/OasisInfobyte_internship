{
 "cells": [
  {
   "cell_type": "code",
   "execution_count": 1,
   "id": "cc7518b9",
   "metadata": {
    "execution": {
     "iopub.execute_input": "2024-08-16T11:30:46.765429Z",
     "iopub.status.busy": "2024-08-16T11:30:46.763153Z",
     "iopub.status.idle": "2024-08-16T11:30:48.119022Z",
     "shell.execute_reply": "2024-08-16T11:30:48.116982Z"
    },
    "papermill": {
     "duration": 1.370045,
     "end_time": "2024-08-16T11:30:48.122337",
     "exception": false,
     "start_time": "2024-08-16T11:30:46.752292",
     "status": "completed"
    },
    "tags": []
   },
   "outputs": [
    {
     "name": "stderr",
     "output_type": "stream",
     "text": [
      "── \u001b[1mAttaching core tidyverse packages\u001b[22m ──────────────────────── tidyverse 2.0.0 ──\n",
      "\u001b[32m✔\u001b[39m \u001b[34mdplyr    \u001b[39m 1.1.4     \u001b[32m✔\u001b[39m \u001b[34mreadr    \u001b[39m 2.1.5\n",
      "\u001b[32m✔\u001b[39m \u001b[34mforcats  \u001b[39m 1.0.0     \u001b[32m✔\u001b[39m \u001b[34mstringr  \u001b[39m 1.5.1\n",
      "\u001b[32m✔\u001b[39m \u001b[34mggplot2  \u001b[39m 3.5.1     \u001b[32m✔\u001b[39m \u001b[34mtibble   \u001b[39m 3.2.1\n",
      "\u001b[32m✔\u001b[39m \u001b[34mlubridate\u001b[39m 1.9.3     \u001b[32m✔\u001b[39m \u001b[34mtidyr    \u001b[39m 1.3.1\n",
      "\u001b[32m✔\u001b[39m \u001b[34mpurrr    \u001b[39m 1.0.2     \n"
     ]
    },
    {
     "name": "stderr",
     "output_type": "stream",
     "text": [
      "── \u001b[1mConflicts\u001b[22m ────────────────────────────────────────── tidyverse_conflicts() ──\n",
      "\u001b[31m✖\u001b[39m \u001b[34mdplyr\u001b[39m::\u001b[32mfilter()\u001b[39m masks \u001b[34mstats\u001b[39m::filter()\n",
      "\u001b[31m✖\u001b[39m \u001b[34mdplyr\u001b[39m::\u001b[32mlag()\u001b[39m    masks \u001b[34mstats\u001b[39m::lag()\n",
      "\u001b[36mℹ\u001b[39m Use the conflicted package (\u001b[3m\u001b[34m<http://conflicted.r-lib.org/>\u001b[39m\u001b[23m) to force all conflicts to become errors\n"
     ]
    },
    {
     "name": "stderr",
     "output_type": "stream",
     "text": [
      "\n",
      "Attaching package: ‘janitor’\n",
      "\n",
      "\n"
     ]
    },
    {
     "name": "stderr",
     "output_type": "stream",
     "text": [
      "The following objects are masked from ‘package:stats’:\n",
      "\n",
      "    chisq.test, fisher.test\n",
      "\n",
      "\n"
     ]
    }
   ],
   "source": [
    "# Import necessary libraries\n",
    "library(tidyverse)  # For data manipulation and visualization\n",
    "library(lubridate)  # For date handling\n",
    "library(readr)      # For reading data\n",
    "library(ggplot2)    # For data visualization\n",
    "library(dplyr)      # For data manipulation\n",
    "library(stringr)    # For string operations\n",
    "library(janitor)    # For cleaning data"
   ]
  },
  {
   "cell_type": "markdown",
   "id": "e1455b16",
   "metadata": {
    "papermill": {
     "duration": 0.009224,
     "end_time": "2024-08-16T11:30:48.140989",
     "exception": false,
     "start_time": "2024-08-16T11:30:48.131765",
     "status": "completed"
    },
    "tags": []
   },
   "source": [
    "### Data Preprocessing and Cleaning Data\n",
    "\n",
    "After importing the libraries or the dependencies, first, we focus on preparing the data for in-depth analysis by performing essential preprocessing and cleaning tasks. This stage is crucial as it ensures that the dataset is accurate, consistent, and ready for analysis, ultimately leading to more reliable and meaningful insights.\n",
    "\n",
    "#### Importing the dataset retail_sales_dataset.csv"
   ]
  },
  {
   "cell_type": "code",
   "execution_count": 2,
   "id": "fd76dcf3",
   "metadata": {
    "execution": {
     "iopub.execute_input": "2024-08-16T11:30:48.195577Z",
     "iopub.status.busy": "2024-08-16T11:30:48.161424Z",
     "iopub.status.idle": "2024-08-16T11:30:48.460063Z",
     "shell.execute_reply": "2024-08-16T11:30:48.457928Z"
    },
    "papermill": {
     "duration": 0.313125,
     "end_time": "2024-08-16T11:30:48.463187",
     "exception": false,
     "start_time": "2024-08-16T11:30:48.150062",
     "status": "completed"
    },
    "tags": []
   },
   "outputs": [
    {
     "name": "stderr",
     "output_type": "stream",
     "text": [
      "\u001b[1mRows: \u001b[22m\u001b[34m1000\u001b[39m \u001b[1mColumns: \u001b[22m\u001b[34m9\u001b[39m\n"
     ]
    },
    {
     "name": "stderr",
     "output_type": "stream",
     "text": [
      "\u001b[36m──\u001b[39m \u001b[1mColumn specification\u001b[22m \u001b[36m────────────────────────────────────────────────────────\u001b[39m\n",
      "\u001b[1mDelimiter:\u001b[22m \",\"\n",
      "\u001b[31mchr\u001b[39m  (3): Customer ID, Gender, Product Category\n",
      "\u001b[32mdbl\u001b[39m  (5): Transaction ID, Age, Quantity, Price per Unit, Total Amount\n",
      "\u001b[34mdate\u001b[39m (1): Date\n"
     ]
    },
    {
     "name": "stderr",
     "output_type": "stream",
     "text": [
      "\n",
      "\u001b[36mℹ\u001b[39m Use `spec()` to retrieve the full column specification for this data.\n",
      "\u001b[36mℹ\u001b[39m Specify the column types or set `show_col_types = FALSE` to quiet this message.\n"
     ]
    }
   ],
   "source": [
    "data = read_csv(\"/kaggle/input/retail-sales-dataset/retail_sales_dataset.csv\")"
   ]
  },
  {
   "cell_type": "markdown",
   "id": "289a4e64",
   "metadata": {
    "papermill": {
     "duration": 0.009315,
     "end_time": "2024-08-16T11:30:48.482458",
     "exception": false,
     "start_time": "2024-08-16T11:30:48.473143",
     "status": "completed"
    },
    "tags": []
   },
   "source": [
    "#### View the structure and summary of dataset"
   ]
  },
  {
   "cell_type": "code",
   "execution_count": 3,
   "id": "53744eb9",
   "metadata": {
    "execution": {
     "iopub.execute_input": "2024-08-16T11:30:48.505512Z",
     "iopub.status.busy": "2024-08-16T11:30:48.503799Z",
     "iopub.status.idle": "2024-08-16T11:30:48.549190Z",
     "shell.execute_reply": "2024-08-16T11:30:48.546991Z"
    },
    "papermill": {
     "duration": 0.0602,
     "end_time": "2024-08-16T11:30:48.552251",
     "exception": false,
     "start_time": "2024-08-16T11:30:48.492051",
     "status": "completed"
    },
    "tags": []
   },
   "outputs": [
    {
     "name": "stdout",
     "output_type": "stream",
     "text": [
      "spc_tbl_ [1,000 × 9] (S3: spec_tbl_df/tbl_df/tbl/data.frame)\n",
      " $ Transaction ID  : num [1:1000] 1 2 3 4 5 6 7 8 9 10 ...\n",
      " $ Date            : Date[1:1000], format: \"2023-11-24\" \"2023-02-27\" ...\n",
      " $ Customer ID     : chr [1:1000] \"CUST001\" \"CUST002\" \"CUST003\" \"CUST004\" ...\n",
      " $ Gender          : chr [1:1000] \"Male\" \"Female\" \"Male\" \"Male\" ...\n",
      " $ Age             : num [1:1000] 34 26 50 37 30 45 46 30 63 52 ...\n",
      " $ Product Category: chr [1:1000] \"Beauty\" \"Clothing\" \"Electronics\" \"Clothing\" ...\n",
      " $ Quantity        : num [1:1000] 3 2 1 1 2 1 2 4 2 4 ...\n",
      " $ Price per Unit  : num [1:1000] 50 500 30 500 50 30 25 25 300 50 ...\n",
      " $ Total Amount    : num [1:1000] 150 1000 30 500 100 30 50 100 600 200 ...\n",
      " - attr(*, \"spec\")=\n",
      "  .. cols(\n",
      "  ..   `Transaction ID` = \u001b[32mcol_double()\u001b[39m,\n",
      "  ..   Date = \u001b[34mcol_date(format = \"\")\u001b[39m,\n",
      "  ..   `Customer ID` = \u001b[31mcol_character()\u001b[39m,\n",
      "  ..   Gender = \u001b[31mcol_character()\u001b[39m,\n",
      "  ..   Age = \u001b[32mcol_double()\u001b[39m,\n",
      "  ..   `Product Category` = \u001b[31mcol_character()\u001b[39m,\n",
      "  ..   Quantity = \u001b[32mcol_double()\u001b[39m,\n",
      "  ..   `Price per Unit` = \u001b[32mcol_double()\u001b[39m,\n",
      "  ..   `Total Amount` = \u001b[32mcol_double()\u001b[39m\n",
      "  .. )\n",
      " - attr(*, \"problems\")=<externalptr> \n"
     ]
    },
    {
     "data": {
      "text/plain": [
       " Transaction ID        Date            Customer ID           Gender         \n",
       " Min.   :   1.0   Min.   :2023-01-01   Length:1000        Length:1000       \n",
       " 1st Qu.: 250.8   1st Qu.:2023-04-08   Class :character   Class :character  \n",
       " Median : 500.5   Median :2023-06-29   Mode  :character   Mode  :character  \n",
       " Mean   : 500.5   Mean   :2023-07-03                                        \n",
       " 3rd Qu.: 750.2   3rd Qu.:2023-10-04                                        \n",
       " Max.   :1000.0   Max.   :2024-01-01                                        \n",
       "      Age        Product Category      Quantity     Price per Unit \n",
       " Min.   :18.00   Length:1000        Min.   :1.000   Min.   : 25.0  \n",
       " 1st Qu.:29.00   Class :character   1st Qu.:1.000   1st Qu.: 30.0  \n",
       " Median :42.00   Mode  :character   Median :3.000   Median : 50.0  \n",
       " Mean   :41.39                      Mean   :2.514   Mean   :179.9  \n",
       " 3rd Qu.:53.00                      3rd Qu.:4.000   3rd Qu.:300.0  \n",
       " Max.   :64.00                      Max.   :4.000   Max.   :500.0  \n",
       "  Total Amount \n",
       " Min.   :  25  \n",
       " 1st Qu.:  60  \n",
       " Median : 135  \n",
       " Mean   : 456  \n",
       " 3rd Qu.: 900  \n",
       " Max.   :2000  "
      ]
     },
     "metadata": {},
     "output_type": "display_data"
    }
   ],
   "source": [
    "str(data)\n",
    "summary(data)"
   ]
  },
  {
   "cell_type": "markdown",
   "id": "ab852b8b",
   "metadata": {
    "papermill": {
     "duration": 0.00985,
     "end_time": "2024-08-16T11:30:48.571760",
     "exception": false,
     "start_time": "2024-08-16T11:30:48.561910",
     "status": "completed"
    },
    "tags": []
   },
   "source": [
    "#### Remove the duplicate data"
   ]
  },
  {
   "cell_type": "code",
   "execution_count": 4,
   "id": "cd8b35ba",
   "metadata": {
    "execution": {
     "iopub.execute_input": "2024-08-16T11:30:48.594817Z",
     "iopub.status.busy": "2024-08-16T11:30:48.593150Z",
     "iopub.status.idle": "2024-08-16T11:30:48.610823Z",
     "shell.execute_reply": "2024-08-16T11:30:48.608914Z"
    },
    "papermill": {
     "duration": 0.032723,
     "end_time": "2024-08-16T11:30:48.614087",
     "exception": false,
     "start_time": "2024-08-16T11:30:48.581364",
     "status": "completed"
    },
    "tags": []
   },
   "outputs": [],
   "source": [
    "data = distinct(data)"
   ]
  },
  {
   "cell_type": "markdown",
   "id": "34a646ad",
   "metadata": {
    "papermill": {
     "duration": 0.009816,
     "end_time": "2024-08-16T11:30:48.633906",
     "exception": false,
     "start_time": "2024-08-16T11:30:48.624090",
     "status": "completed"
    },
    "tags": []
   },
   "source": [
    "#### Clean column names"
   ]
  },
  {
   "cell_type": "code",
   "execution_count": 5,
   "id": "0b5b7dbe",
   "metadata": {
    "execution": {
     "iopub.execute_input": "2024-08-16T11:30:48.657142Z",
     "iopub.status.busy": "2024-08-16T11:30:48.655489Z",
     "iopub.status.idle": "2024-08-16T11:30:48.743758Z",
     "shell.execute_reply": "2024-08-16T11:30:48.741870Z"
    },
    "papermill": {
     "duration": 0.103559,
     "end_time": "2024-08-16T11:30:48.747139",
     "exception": false,
     "start_time": "2024-08-16T11:30:48.643580",
     "status": "completed"
    },
    "tags": []
   },
   "outputs": [],
   "source": [
    "data = clean_names(data)"
   ]
  },
  {
   "cell_type": "markdown",
   "id": "aba90593",
   "metadata": {
    "papermill": {
     "duration": 0.00977,
     "end_time": "2024-08-16T11:30:48.767070",
     "exception": false,
     "start_time": "2024-08-16T11:30:48.757300",
     "status": "completed"
    },
    "tags": []
   },
   "source": [
    "#### Count the missing value"
   ]
  },
  {
   "cell_type": "code",
   "execution_count": 6,
   "id": "e639706c",
   "metadata": {
    "execution": {
     "iopub.execute_input": "2024-08-16T11:30:48.790432Z",
     "iopub.status.busy": "2024-08-16T11:30:48.788729Z",
     "iopub.status.idle": "2024-08-16T11:30:48.821396Z",
     "shell.execute_reply": "2024-08-16T11:30:48.819285Z"
    },
    "papermill": {
     "duration": 0.047874,
     "end_time": "2024-08-16T11:30:48.824452",
     "exception": false,
     "start_time": "2024-08-16T11:30:48.776578",
     "status": "completed"
    },
    "tags": []
   },
   "outputs": [
    {
     "name": "stdout",
     "output_type": "stream",
     "text": [
      "[1] \"Total missing values: 0\"\n"
     ]
    },
    {
     "name": "stdout",
     "output_type": "stream",
     "text": [
      "[1] \"Missing values per column:\"\n"
     ]
    },
    {
     "name": "stdout",
     "output_type": "stream",
     "text": [
      "  transaction_id             date      customer_id           gender \n",
      "               0                0                0                0 \n",
      "             age product_category         quantity   price_per_unit \n",
      "               0                0                0                0 \n",
      "    total_amount \n",
      "               0 \n"
     ]
    }
   ],
   "source": [
    "# Count the missing value all in dataset\n",
    "total_missing <- sum(is.na(data))\n",
    "print(paste(\"Total missing values:\", total_missing))\n",
    "\n",
    "# Count of missing value in column data\n",
    "missing_per_column <- colSums(is.na(data))\n",
    "print(\"Missing values per column:\")\n",
    "print(missing_per_column)"
   ]
  },
  {
   "cell_type": "markdown",
   "id": "f4b9eabe",
   "metadata": {
    "papermill": {
     "duration": 0.01019,
     "end_time": "2024-08-16T11:30:48.844535",
     "exception": false,
     "start_time": "2024-08-16T11:30:48.834345",
     "status": "completed"
    },
    "tags": []
   },
   "source": [
    "#### View first 10 rows cleaned dataset"
   ]
  },
  {
   "cell_type": "code",
   "execution_count": 7,
   "id": "0a670a2a",
   "metadata": {
    "execution": {
     "iopub.execute_input": "2024-08-16T11:30:48.867997Z",
     "iopub.status.busy": "2024-08-16T11:30:48.866309Z",
     "iopub.status.idle": "2024-08-16T11:30:48.910494Z",
     "shell.execute_reply": "2024-08-16T11:30:48.908523Z"
    },
    "papermill": {
     "duration": 0.058985,
     "end_time": "2024-08-16T11:30:48.913254",
     "exception": false,
     "start_time": "2024-08-16T11:30:48.854269",
     "status": "completed"
    },
    "tags": []
   },
   "outputs": [
    {
     "data": {
      "text/html": [
       "<table class=\"dataframe\">\n",
       "<caption>A tibble: 10 × 9</caption>\n",
       "<thead>\n",
       "\t<tr><th scope=col>transaction_id</th><th scope=col>date</th><th scope=col>customer_id</th><th scope=col>gender</th><th scope=col>age</th><th scope=col>product_category</th><th scope=col>quantity</th><th scope=col>price_per_unit</th><th scope=col>total_amount</th></tr>\n",
       "\t<tr><th scope=col>&lt;dbl&gt;</th><th scope=col>&lt;date&gt;</th><th scope=col>&lt;chr&gt;</th><th scope=col>&lt;chr&gt;</th><th scope=col>&lt;dbl&gt;</th><th scope=col>&lt;chr&gt;</th><th scope=col>&lt;dbl&gt;</th><th scope=col>&lt;dbl&gt;</th><th scope=col>&lt;dbl&gt;</th></tr>\n",
       "</thead>\n",
       "<tbody>\n",
       "\t<tr><td> 1</td><td>2023-11-24</td><td>CUST001</td><td>Male  </td><td>34</td><td>Beauty     </td><td>3</td><td> 50</td><td> 150</td></tr>\n",
       "\t<tr><td> 2</td><td>2023-02-27</td><td>CUST002</td><td>Female</td><td>26</td><td>Clothing   </td><td>2</td><td>500</td><td>1000</td></tr>\n",
       "\t<tr><td> 3</td><td>2023-01-13</td><td>CUST003</td><td>Male  </td><td>50</td><td>Electronics</td><td>1</td><td> 30</td><td>  30</td></tr>\n",
       "\t<tr><td> 4</td><td>2023-05-21</td><td>CUST004</td><td>Male  </td><td>37</td><td>Clothing   </td><td>1</td><td>500</td><td> 500</td></tr>\n",
       "\t<tr><td> 5</td><td>2023-05-06</td><td>CUST005</td><td>Male  </td><td>30</td><td>Beauty     </td><td>2</td><td> 50</td><td> 100</td></tr>\n",
       "\t<tr><td> 6</td><td>2023-04-25</td><td>CUST006</td><td>Female</td><td>45</td><td>Beauty     </td><td>1</td><td> 30</td><td>  30</td></tr>\n",
       "\t<tr><td> 7</td><td>2023-03-13</td><td>CUST007</td><td>Male  </td><td>46</td><td>Clothing   </td><td>2</td><td> 25</td><td>  50</td></tr>\n",
       "\t<tr><td> 8</td><td>2023-02-22</td><td>CUST008</td><td>Male  </td><td>30</td><td>Electronics</td><td>4</td><td> 25</td><td> 100</td></tr>\n",
       "\t<tr><td> 9</td><td>2023-12-13</td><td>CUST009</td><td>Male  </td><td>63</td><td>Electronics</td><td>2</td><td>300</td><td> 600</td></tr>\n",
       "\t<tr><td>10</td><td>2023-10-07</td><td>CUST010</td><td>Female</td><td>52</td><td>Clothing   </td><td>4</td><td> 50</td><td> 200</td></tr>\n",
       "</tbody>\n",
       "</table>\n"
      ],
      "text/latex": [
       "A tibble: 10 × 9\n",
       "\\begin{tabular}{lllllllll}\n",
       " transaction\\_id & date & customer\\_id & gender & age & product\\_category & quantity & price\\_per\\_unit & total\\_amount\\\\\n",
       " <dbl> & <date> & <chr> & <chr> & <dbl> & <chr> & <dbl> & <dbl> & <dbl>\\\\\n",
       "\\hline\n",
       "\t  1 & 2023-11-24 & CUST001 & Male   & 34 & Beauty      & 3 &  50 &  150\\\\\n",
       "\t  2 & 2023-02-27 & CUST002 & Female & 26 & Clothing    & 2 & 500 & 1000\\\\\n",
       "\t  3 & 2023-01-13 & CUST003 & Male   & 50 & Electronics & 1 &  30 &   30\\\\\n",
       "\t  4 & 2023-05-21 & CUST004 & Male   & 37 & Clothing    & 1 & 500 &  500\\\\\n",
       "\t  5 & 2023-05-06 & CUST005 & Male   & 30 & Beauty      & 2 &  50 &  100\\\\\n",
       "\t  6 & 2023-04-25 & CUST006 & Female & 45 & Beauty      & 1 &  30 &   30\\\\\n",
       "\t  7 & 2023-03-13 & CUST007 & Male   & 46 & Clothing    & 2 &  25 &   50\\\\\n",
       "\t  8 & 2023-02-22 & CUST008 & Male   & 30 & Electronics & 4 &  25 &  100\\\\\n",
       "\t  9 & 2023-12-13 & CUST009 & Male   & 63 & Electronics & 2 & 300 &  600\\\\\n",
       "\t 10 & 2023-10-07 & CUST010 & Female & 52 & Clothing    & 4 &  50 &  200\\\\\n",
       "\\end{tabular}\n"
      ],
      "text/markdown": [
       "\n",
       "A tibble: 10 × 9\n",
       "\n",
       "| transaction_id &lt;dbl&gt; | date &lt;date&gt; | customer_id &lt;chr&gt; | gender &lt;chr&gt; | age &lt;dbl&gt; | product_category &lt;chr&gt; | quantity &lt;dbl&gt; | price_per_unit &lt;dbl&gt; | total_amount &lt;dbl&gt; |\n",
       "|---|---|---|---|---|---|---|---|---|\n",
       "|  1 | 2023-11-24 | CUST001 | Male   | 34 | Beauty      | 3 |  50 |  150 |\n",
       "|  2 | 2023-02-27 | CUST002 | Female | 26 | Clothing    | 2 | 500 | 1000 |\n",
       "|  3 | 2023-01-13 | CUST003 | Male   | 50 | Electronics | 1 |  30 |   30 |\n",
       "|  4 | 2023-05-21 | CUST004 | Male   | 37 | Clothing    | 1 | 500 |  500 |\n",
       "|  5 | 2023-05-06 | CUST005 | Male   | 30 | Beauty      | 2 |  50 |  100 |\n",
       "|  6 | 2023-04-25 | CUST006 | Female | 45 | Beauty      | 1 |  30 |   30 |\n",
       "|  7 | 2023-03-13 | CUST007 | Male   | 46 | Clothing    | 2 |  25 |   50 |\n",
       "|  8 | 2023-02-22 | CUST008 | Male   | 30 | Electronics | 4 |  25 |  100 |\n",
       "|  9 | 2023-12-13 | CUST009 | Male   | 63 | Electronics | 2 | 300 |  600 |\n",
       "| 10 | 2023-10-07 | CUST010 | Female | 52 | Clothing    | 4 |  50 |  200 |\n",
       "\n"
      ],
      "text/plain": [
       "   transaction_id date       customer_id gender age product_category quantity\n",
       "1   1             2023-11-24 CUST001     Male   34  Beauty           3       \n",
       "2   2             2023-02-27 CUST002     Female 26  Clothing         2       \n",
       "3   3             2023-01-13 CUST003     Male   50  Electronics      1       \n",
       "4   4             2023-05-21 CUST004     Male   37  Clothing         1       \n",
       "5   5             2023-05-06 CUST005     Male   30  Beauty           2       \n",
       "6   6             2023-04-25 CUST006     Female 45  Beauty           1       \n",
       "7   7             2023-03-13 CUST007     Male   46  Clothing         2       \n",
       "8   8             2023-02-22 CUST008     Male   30  Electronics      4       \n",
       "9   9             2023-12-13 CUST009     Male   63  Electronics      2       \n",
       "10 10             2023-10-07 CUST010     Female 52  Clothing         4       \n",
       "   price_per_unit total_amount\n",
       "1   50             150        \n",
       "2  500            1000        \n",
       "3   30              30        \n",
       "4  500             500        \n",
       "5   50             100        \n",
       "6   30              30        \n",
       "7   25              50        \n",
       "8   25             100        \n",
       "9  300             600        \n",
       "10  50             200        "
      ]
     },
     "metadata": {},
     "output_type": "display_data"
    }
   ],
   "source": [
    "head(data, 10)"
   ]
  },
  {
   "cell_type": "markdown",
   "id": "d9757b1d",
   "metadata": {
    "papermill": {
     "duration": 0.01022,
     "end_time": "2024-08-16T11:30:48.933727",
     "exception": false,
     "start_time": "2024-08-16T11:30:48.923507",
     "status": "completed"
    },
    "tags": []
   },
   "source": [
    "## PROCESS and ANALYZE Step\n",
    "\n",
    "In this section, we transition from preparation to the core of our analysis, where we process and analyze the data to address the key objectives outlined in the ASK step. This phase is crucial as it transforms raw data into actionable insights, providing answers to the critical questions guiding our study.\n",
    "\n",
    "### 1. Identify the Most Popular Product Categories \n",
    "\n",
    "Approach : We will analyze sales data to identify trends and patterns in product performance. By comparing sales figures across various categories, we can pinpoint the most popular items and understand their contribution to overall sales. This insight will enable retailers to prioritize their inventory and tailor marketing strategies to focus on high-performing categories.\n",
    "\n",
    "#### Summarize sales between category"
   ]
  },
  {
   "cell_type": "code",
   "execution_count": 8,
   "id": "5c3a05db",
   "metadata": {
    "execution": {
     "iopub.execute_input": "2024-08-16T11:30:48.958706Z",
     "iopub.status.busy": "2024-08-16T11:30:48.957072Z",
     "iopub.status.idle": "2024-08-16T11:30:49.016056Z",
     "shell.execute_reply": "2024-08-16T11:30:49.014201Z"
    },
    "papermill": {
     "duration": 0.074701,
     "end_time": "2024-08-16T11:30:49.018662",
     "exception": false,
     "start_time": "2024-08-16T11:30:48.943961",
     "status": "completed"
    },
    "tags": []
   },
   "outputs": [],
   "source": [
    "sales_by_category = data %>%\n",
    "  group_by(product_category) %>%\n",
    "  summarize(TotalSales = sum(total_amount)) %>%\n",
    "  arrange(desc(TotalSales))"
   ]
  },
  {
   "cell_type": "markdown",
   "id": "54938bad",
   "metadata": {
    "papermill": {
     "duration": 0.010272,
     "end_time": "2024-08-16T11:30:49.039302",
     "exception": false,
     "start_time": "2024-08-16T11:30:49.029030",
     "status": "completed"
    },
    "tags": []
   },
   "source": [
    "#### View the sales_by_category"
   ]
  },
  {
   "cell_type": "code",
   "execution_count": 9,
   "id": "b36135fd",
   "metadata": {
    "execution": {
     "iopub.execute_input": "2024-08-16T11:30:49.063979Z",
     "iopub.status.busy": "2024-08-16T11:30:49.061950Z",
     "iopub.status.idle": "2024-08-16T11:30:49.106462Z",
     "shell.execute_reply": "2024-08-16T11:30:49.104456Z"
    },
    "papermill": {
     "duration": 0.059221,
     "end_time": "2024-08-16T11:30:49.108811",
     "exception": false,
     "start_time": "2024-08-16T11:30:49.049590",
     "status": "completed"
    },
    "tags": []
   },
   "outputs": [
    {
     "name": "stdout",
     "output_type": "stream",
     "text": [
      "\u001b[90m# A tibble: 3 × 2\u001b[39m\n",
      "  product_category TotalSales\n",
      "  \u001b[3m\u001b[90m<chr>\u001b[39m\u001b[23m                 \u001b[3m\u001b[90m<dbl>\u001b[39m\u001b[23m\n",
      "\u001b[90m1\u001b[39m Electronics          \u001b[4m1\u001b[24m\u001b[4m5\u001b[24m\u001b[4m6\u001b[24m905\n",
      "\u001b[90m2\u001b[39m Clothing             \u001b[4m1\u001b[24m\u001b[4m5\u001b[24m\u001b[4m5\u001b[24m580\n",
      "\u001b[90m3\u001b[39m Beauty               \u001b[4m1\u001b[24m\u001b[4m4\u001b[24m\u001b[4m3\u001b[24m515\n"
     ]
    }
   ],
   "source": [
    "print(sales_by_category)"
   ]
  },
  {
   "cell_type": "markdown",
   "id": "ffcd2870",
   "metadata": {
    "papermill": {
     "duration": 0.010322,
     "end_time": "2024-08-16T11:30:49.129439",
     "exception": false,
     "start_time": "2024-08-16T11:30:49.119117",
     "status": "completed"
    },
    "tags": []
   },
   "source": [
    "#### Answer the first question : Which product categories are the most popular?\n",
    "\n",
    "Based on the analysis of the retail sales data, we have identified and summarized the total sales for each product category. The results provide insights into which categories are driving the highest sales volumes. Here is a summary of the most popular product categories:\n",
    "\n",
    "1. **Electronics**:\n",
    "   - **Total Sales**: $156,905\n",
    "   - **Description**: Electronics is the leading category in terms of sales. This suggests a high consumer demand for electronic products, which could be driven by trends in technology, gadgets, and appliances.\n",
    "\n",
    "2. **Clothing**:\n",
    "   - **Total Sales**: $155,580\n",
    "   - **Description**: Clothing follows closely behind electronics in terms of sales volume. This indicates that apparel is also a significant driver of revenue, reflecting ongoing consumer interest in fashion and personal attire.\n",
    "\n",
    "3. **Beauty**:\n",
    "   - **Total Sales**: $143,515\n",
    "   - **Description**: The beauty category ranks third, showcasing strong performance in the beauty and personal care segment. This suggests that beauty products are popular among consumers, contributing significantly to overall sales.\n",
    "\n",
    "### 2. Analyze Product Categories by Age Group\n",
    "\n",
    "Approach: We will segment the data by age groups to explore purchasing behavior and preferences. This analysis will help us understand which product categories are favored by different age demographics. Insights gained from this analysis will inform targeted marketing campaigns and product development strategies that cater to specific age groups, enhancing overall customer engagement and satisfaction.\n",
    "\n",
    "#### Define the age groups by 5 range intervals"
   ]
  },
  {
   "cell_type": "code",
   "execution_count": 10,
   "id": "2c4f80f4",
   "metadata": {
    "execution": {
     "iopub.execute_input": "2024-08-16T11:30:49.153633Z",
     "iopub.status.busy": "2024-08-16T11:30:49.151962Z",
     "iopub.status.idle": "2024-08-16T11:30:49.168862Z",
     "shell.execute_reply": "2024-08-16T11:30:49.166978Z"
    },
    "papermill": {
     "duration": 0.031781,
     "end_time": "2024-08-16T11:30:49.171377",
     "exception": false,
     "start_time": "2024-08-16T11:30:49.139596",
     "status": "completed"
    },
    "tags": []
   },
   "outputs": [],
   "source": [
    "data = data %>%\n",
    "  mutate(age_group = cut(age,\n",
    "                         breaks = seq(min(age), max(age), by = 5),\n",
    "                         labels = c(\"18-22\", \"23-27\", \"28-32\", \"33-37\", \"38-42\", \"43-47\", \"48-52\", \"53-57\", \"58-62\"),\n",
    "                         right = FALSE))"
   ]
  },
  {
   "cell_type": "markdown",
   "id": "8aef4c16",
   "metadata": {
    "papermill": {
     "duration": 0.010401,
     "end_time": "2024-08-16T11:30:49.192047",
     "exception": false,
     "start_time": "2024-08-16T11:30:49.181646",
     "status": "completed"
    },
    "tags": []
   },
   "source": [
    "#### View the age groups "
   ]
  },
  {
   "cell_type": "code",
   "execution_count": 11,
   "id": "a5190ba9",
   "metadata": {
    "execution": {
     "iopub.execute_input": "2024-08-16T11:30:49.216479Z",
     "iopub.status.busy": "2024-08-16T11:30:49.214821Z",
     "iopub.status.idle": "2024-08-16T11:30:49.350009Z",
     "shell.execute_reply": "2024-08-16T11:30:49.348141Z"
    },
    "papermill": {
     "duration": 0.150237,
     "end_time": "2024-08-16T11:30:49.352605",
     "exception": false,
     "start_time": "2024-08-16T11:30:49.202368",
     "status": "completed"
    },
    "tags": []
   },
   "outputs": [
    {
     "data": {
      "text/html": [
       "<table class=\"dataframe\">\n",
       "<caption>A tibble: 1000 × 10</caption>\n",
       "<thead>\n",
       "\t<tr><th scope=col>transaction_id</th><th scope=col>date</th><th scope=col>customer_id</th><th scope=col>gender</th><th scope=col>age</th><th scope=col>product_category</th><th scope=col>quantity</th><th scope=col>price_per_unit</th><th scope=col>total_amount</th><th scope=col>age_group</th></tr>\n",
       "\t<tr><th scope=col>&lt;dbl&gt;</th><th scope=col>&lt;date&gt;</th><th scope=col>&lt;chr&gt;</th><th scope=col>&lt;chr&gt;</th><th scope=col>&lt;dbl&gt;</th><th scope=col>&lt;chr&gt;</th><th scope=col>&lt;dbl&gt;</th><th scope=col>&lt;dbl&gt;</th><th scope=col>&lt;dbl&gt;</th><th scope=col>&lt;fct&gt;</th></tr>\n",
       "</thead>\n",
       "<tbody>\n",
       "\t<tr><td> 1</td><td>2023-11-24</td><td>CUST001</td><td>Male  </td><td>34</td><td>Beauty     </td><td>3</td><td> 50</td><td> 150</td><td>33-37</td></tr>\n",
       "\t<tr><td> 2</td><td>2023-02-27</td><td>CUST002</td><td>Female</td><td>26</td><td>Clothing   </td><td>2</td><td>500</td><td>1000</td><td>23-27</td></tr>\n",
       "\t<tr><td> 3</td><td>2023-01-13</td><td>CUST003</td><td>Male  </td><td>50</td><td>Electronics</td><td>1</td><td> 30</td><td>  30</td><td>48-52</td></tr>\n",
       "\t<tr><td> 4</td><td>2023-05-21</td><td>CUST004</td><td>Male  </td><td>37</td><td>Clothing   </td><td>1</td><td>500</td><td> 500</td><td>33-37</td></tr>\n",
       "\t<tr><td> 5</td><td>2023-05-06</td><td>CUST005</td><td>Male  </td><td>30</td><td>Beauty     </td><td>2</td><td> 50</td><td> 100</td><td>28-32</td></tr>\n",
       "\t<tr><td> 6</td><td>2023-04-25</td><td>CUST006</td><td>Female</td><td>45</td><td>Beauty     </td><td>1</td><td> 30</td><td>  30</td><td>43-47</td></tr>\n",
       "\t<tr><td> 7</td><td>2023-03-13</td><td>CUST007</td><td>Male  </td><td>46</td><td>Clothing   </td><td>2</td><td> 25</td><td>  50</td><td>43-47</td></tr>\n",
       "\t<tr><td> 8</td><td>2023-02-22</td><td>CUST008</td><td>Male  </td><td>30</td><td>Electronics</td><td>4</td><td> 25</td><td> 100</td><td>28-32</td></tr>\n",
       "\t<tr><td> 9</td><td>2023-12-13</td><td>CUST009</td><td>Male  </td><td>63</td><td>Electronics</td><td>2</td><td>300</td><td> 600</td><td>NA   </td></tr>\n",
       "\t<tr><td>10</td><td>2023-10-07</td><td>CUST010</td><td>Female</td><td>52</td><td>Clothing   </td><td>4</td><td> 50</td><td> 200</td><td>48-52</td></tr>\n",
       "\t<tr><td>11</td><td>2023-02-14</td><td>CUST011</td><td>Male  </td><td>23</td><td>Clothing   </td><td>2</td><td> 50</td><td> 100</td><td>23-27</td></tr>\n",
       "\t<tr><td>12</td><td>2023-10-30</td><td>CUST012</td><td>Male  </td><td>35</td><td>Beauty     </td><td>3</td><td> 25</td><td>  75</td><td>33-37</td></tr>\n",
       "\t<tr><td>13</td><td>2023-08-05</td><td>CUST013</td><td>Male  </td><td>22</td><td>Electronics</td><td>3</td><td>500</td><td>1500</td><td>18-22</td></tr>\n",
       "\t<tr><td>14</td><td>2023-01-17</td><td>CUST014</td><td>Male  </td><td>64</td><td>Clothing   </td><td>4</td><td> 30</td><td> 120</td><td>NA   </td></tr>\n",
       "\t<tr><td>15</td><td>2023-01-16</td><td>CUST015</td><td>Female</td><td>42</td><td>Electronics</td><td>4</td><td>500</td><td>2000</td><td>38-42</td></tr>\n",
       "\t<tr><td>16</td><td>2023-02-17</td><td>CUST016</td><td>Male  </td><td>19</td><td>Clothing   </td><td>3</td><td>500</td><td>1500</td><td>18-22</td></tr>\n",
       "\t<tr><td>17</td><td>2023-04-22</td><td>CUST017</td><td>Female</td><td>27</td><td>Clothing   </td><td>4</td><td> 25</td><td> 100</td><td>23-27</td></tr>\n",
       "\t<tr><td>18</td><td>2023-04-30</td><td>CUST018</td><td>Female</td><td>47</td><td>Electronics</td><td>2</td><td> 25</td><td>  50</td><td>43-47</td></tr>\n",
       "\t<tr><td>19</td><td>2023-09-16</td><td>CUST019</td><td>Female</td><td>62</td><td>Clothing   </td><td>2</td><td> 25</td><td>  50</td><td>58-62</td></tr>\n",
       "\t<tr><td>20</td><td>2023-11-05</td><td>CUST020</td><td>Male  </td><td>22</td><td>Clothing   </td><td>3</td><td>300</td><td> 900</td><td>18-22</td></tr>\n",
       "\t<tr><td>21</td><td>2023-01-14</td><td>CUST021</td><td>Female</td><td>50</td><td>Beauty     </td><td>1</td><td>500</td><td> 500</td><td>48-52</td></tr>\n",
       "\t<tr><td>22</td><td>2023-10-15</td><td>CUST022</td><td>Male  </td><td>18</td><td>Clothing   </td><td>2</td><td> 50</td><td> 100</td><td>18-22</td></tr>\n",
       "\t<tr><td>23</td><td>2023-04-12</td><td>CUST023</td><td>Female</td><td>35</td><td>Clothing   </td><td>4</td><td> 30</td><td> 120</td><td>33-37</td></tr>\n",
       "\t<tr><td>24</td><td>2023-11-29</td><td>CUST024</td><td>Female</td><td>49</td><td>Clothing   </td><td>1</td><td>300</td><td> 300</td><td>48-52</td></tr>\n",
       "\t<tr><td>25</td><td>2023-12-26</td><td>CUST025</td><td>Female</td><td>64</td><td>Beauty     </td><td>1</td><td> 50</td><td>  50</td><td>NA   </td></tr>\n",
       "\t<tr><td>26</td><td>2023-10-07</td><td>CUST026</td><td>Female</td><td>28</td><td>Electronics</td><td>2</td><td>500</td><td>1000</td><td>28-32</td></tr>\n",
       "\t<tr><td>27</td><td>2023-08-03</td><td>CUST027</td><td>Female</td><td>38</td><td>Beauty     </td><td>2</td><td> 25</td><td>  50</td><td>38-42</td></tr>\n",
       "\t<tr><td>28</td><td>2023-04-23</td><td>CUST028</td><td>Female</td><td>43</td><td>Beauty     </td><td>1</td><td>500</td><td> 500</td><td>43-47</td></tr>\n",
       "\t<tr><td>29</td><td>2023-08-18</td><td>CUST029</td><td>Female</td><td>42</td><td>Electronics</td><td>1</td><td> 30</td><td>  30</td><td>38-42</td></tr>\n",
       "\t<tr><td>30</td><td>2023-10-29</td><td>CUST030</td><td>Female</td><td>39</td><td>Beauty     </td><td>3</td><td>300</td><td> 900</td><td>38-42</td></tr>\n",
       "\t<tr><td>⋮</td><td>⋮</td><td>⋮</td><td>⋮</td><td>⋮</td><td>⋮</td><td>⋮</td><td>⋮</td><td>⋮</td><td>⋮</td></tr>\n",
       "\t<tr><td> 971</td><td>2023-12-05</td><td>CUST971 </td><td>Female</td><td>27</td><td>Electronics</td><td>4</td><td> 50</td><td> 200</td><td>23-27</td></tr>\n",
       "\t<tr><td> 972</td><td>2023-02-11</td><td>CUST972 </td><td>Male  </td><td>49</td><td>Beauty     </td><td>4</td><td> 25</td><td> 100</td><td>48-52</td></tr>\n",
       "\t<tr><td> 973</td><td>2023-03-22</td><td>CUST973 </td><td>Male  </td><td>60</td><td>Clothing   </td><td>1</td><td> 50</td><td>  50</td><td>58-62</td></tr>\n",
       "\t<tr><td> 974</td><td>2023-05-03</td><td>CUST974 </td><td>Male  </td><td>47</td><td>Beauty     </td><td>1</td><td> 30</td><td>  30</td><td>43-47</td></tr>\n",
       "\t<tr><td> 975</td><td>2023-03-30</td><td>CUST975 </td><td>Female</td><td>56</td><td>Clothing   </td><td>4</td><td> 50</td><td> 200</td><td>53-57</td></tr>\n",
       "\t<tr><td> 976</td><td>2023-10-10</td><td>CUST976 </td><td>Female</td><td>48</td><td>Beauty     </td><td>2</td><td>300</td><td> 600</td><td>48-52</td></tr>\n",
       "\t<tr><td> 977</td><td>2023-02-08</td><td>CUST977 </td><td>Female</td><td>35</td><td>Electronics</td><td>3</td><td> 25</td><td>  75</td><td>33-37</td></tr>\n",
       "\t<tr><td> 978</td><td>2023-03-22</td><td>CUST978 </td><td>Female</td><td>53</td><td>Clothing   </td><td>3</td><td> 50</td><td> 150</td><td>53-57</td></tr>\n",
       "\t<tr><td> 979</td><td>2023-01-02</td><td>CUST979 </td><td>Female</td><td>19</td><td>Beauty     </td><td>1</td><td> 25</td><td>  25</td><td>18-22</td></tr>\n",
       "\t<tr><td> 980</td><td>2023-07-29</td><td>CUST980 </td><td>Female</td><td>31</td><td>Electronics</td><td>3</td><td> 25</td><td>  75</td><td>28-32</td></tr>\n",
       "\t<tr><td> 981</td><td>2023-08-19</td><td>CUST981 </td><td>Female</td><td>30</td><td>Electronics</td><td>2</td><td> 30</td><td>  60</td><td>28-32</td></tr>\n",
       "\t<tr><td> 982</td><td>2023-12-19</td><td>CUST982 </td><td>Female</td><td>46</td><td>Beauty     </td><td>3</td><td> 30</td><td>  90</td><td>43-47</td></tr>\n",
       "\t<tr><td> 983</td><td>2023-11-01</td><td>CUST983 </td><td>Female</td><td>29</td><td>Clothing   </td><td>1</td><td>300</td><td> 300</td><td>28-32</td></tr>\n",
       "\t<tr><td> 984</td><td>2023-08-29</td><td>CUST984 </td><td>Male  </td><td>56</td><td>Clothing   </td><td>1</td><td>500</td><td> 500</td><td>53-57</td></tr>\n",
       "\t<tr><td> 985</td><td>2023-05-30</td><td>CUST985 </td><td>Female</td><td>19</td><td>Electronics</td><td>2</td><td> 25</td><td>  50</td><td>18-22</td></tr>\n",
       "\t<tr><td> 986</td><td>2023-01-17</td><td>CUST986 </td><td>Female</td><td>49</td><td>Clothing   </td><td>2</td><td>500</td><td>1000</td><td>48-52</td></tr>\n",
       "\t<tr><td> 987</td><td>2023-04-29</td><td>CUST987 </td><td>Female</td><td>30</td><td>Clothing   </td><td>3</td><td>300</td><td> 900</td><td>28-32</td></tr>\n",
       "\t<tr><td> 988</td><td>2023-05-28</td><td>CUST988 </td><td>Female</td><td>63</td><td>Clothing   </td><td>3</td><td> 25</td><td>  75</td><td>NA   </td></tr>\n",
       "\t<tr><td> 989</td><td>2023-12-28</td><td>CUST989 </td><td>Female</td><td>44</td><td>Electronics</td><td>1</td><td> 25</td><td>  25</td><td>43-47</td></tr>\n",
       "\t<tr><td> 990</td><td>2023-05-25</td><td>CUST990 </td><td>Female</td><td>58</td><td>Beauty     </td><td>2</td><td>500</td><td>1000</td><td>58-62</td></tr>\n",
       "\t<tr><td> 991</td><td>2023-12-26</td><td>CUST991 </td><td>Female</td><td>34</td><td>Clothing   </td><td>2</td><td> 50</td><td> 100</td><td>33-37</td></tr>\n",
       "\t<tr><td> 992</td><td>2023-08-21</td><td>CUST992 </td><td>Female</td><td>57</td><td>Electronics</td><td>2</td><td> 30</td><td>  60</td><td>53-57</td></tr>\n",
       "\t<tr><td> 993</td><td>2023-02-06</td><td>CUST993 </td><td>Female</td><td>48</td><td>Electronics</td><td>3</td><td> 50</td><td> 150</td><td>48-52</td></tr>\n",
       "\t<tr><td> 994</td><td>2023-12-18</td><td>CUST994 </td><td>Female</td><td>51</td><td>Beauty     </td><td>2</td><td>500</td><td>1000</td><td>48-52</td></tr>\n",
       "\t<tr><td> 995</td><td>2023-04-30</td><td>CUST995 </td><td>Female</td><td>41</td><td>Clothing   </td><td>1</td><td> 30</td><td>  30</td><td>38-42</td></tr>\n",
       "\t<tr><td> 996</td><td>2023-05-16</td><td>CUST996 </td><td>Male  </td><td>62</td><td>Clothing   </td><td>1</td><td> 50</td><td>  50</td><td>58-62</td></tr>\n",
       "\t<tr><td> 997</td><td>2023-11-17</td><td>CUST997 </td><td>Male  </td><td>52</td><td>Beauty     </td><td>3</td><td> 30</td><td>  90</td><td>48-52</td></tr>\n",
       "\t<tr><td> 998</td><td>2023-10-29</td><td>CUST998 </td><td>Female</td><td>23</td><td>Beauty     </td><td>4</td><td> 25</td><td> 100</td><td>23-27</td></tr>\n",
       "\t<tr><td> 999</td><td>2023-12-05</td><td>CUST999 </td><td>Female</td><td>36</td><td>Electronics</td><td>3</td><td> 50</td><td> 150</td><td>33-37</td></tr>\n",
       "\t<tr><td>1000</td><td>2023-04-12</td><td>CUST1000</td><td>Male  </td><td>47</td><td>Electronics</td><td>4</td><td> 30</td><td> 120</td><td>43-47</td></tr>\n",
       "</tbody>\n",
       "</table>\n"
      ],
      "text/latex": [
       "A tibble: 1000 × 10\n",
       "\\begin{tabular}{llllllllll}\n",
       " transaction\\_id & date & customer\\_id & gender & age & product\\_category & quantity & price\\_per\\_unit & total\\_amount & age\\_group\\\\\n",
       " <dbl> & <date> & <chr> & <chr> & <dbl> & <chr> & <dbl> & <dbl> & <dbl> & <fct>\\\\\n",
       "\\hline\n",
       "\t  1 & 2023-11-24 & CUST001 & Male   & 34 & Beauty      & 3 &  50 &  150 & 33-37\\\\\n",
       "\t  2 & 2023-02-27 & CUST002 & Female & 26 & Clothing    & 2 & 500 & 1000 & 23-27\\\\\n",
       "\t  3 & 2023-01-13 & CUST003 & Male   & 50 & Electronics & 1 &  30 &   30 & 48-52\\\\\n",
       "\t  4 & 2023-05-21 & CUST004 & Male   & 37 & Clothing    & 1 & 500 &  500 & 33-37\\\\\n",
       "\t  5 & 2023-05-06 & CUST005 & Male   & 30 & Beauty      & 2 &  50 &  100 & 28-32\\\\\n",
       "\t  6 & 2023-04-25 & CUST006 & Female & 45 & Beauty      & 1 &  30 &   30 & 43-47\\\\\n",
       "\t  7 & 2023-03-13 & CUST007 & Male   & 46 & Clothing    & 2 &  25 &   50 & 43-47\\\\\n",
       "\t  8 & 2023-02-22 & CUST008 & Male   & 30 & Electronics & 4 &  25 &  100 & 28-32\\\\\n",
       "\t  9 & 2023-12-13 & CUST009 & Male   & 63 & Electronics & 2 & 300 &  600 & NA   \\\\\n",
       "\t 10 & 2023-10-07 & CUST010 & Female & 52 & Clothing    & 4 &  50 &  200 & 48-52\\\\\n",
       "\t 11 & 2023-02-14 & CUST011 & Male   & 23 & Clothing    & 2 &  50 &  100 & 23-27\\\\\n",
       "\t 12 & 2023-10-30 & CUST012 & Male   & 35 & Beauty      & 3 &  25 &   75 & 33-37\\\\\n",
       "\t 13 & 2023-08-05 & CUST013 & Male   & 22 & Electronics & 3 & 500 & 1500 & 18-22\\\\\n",
       "\t 14 & 2023-01-17 & CUST014 & Male   & 64 & Clothing    & 4 &  30 &  120 & NA   \\\\\n",
       "\t 15 & 2023-01-16 & CUST015 & Female & 42 & Electronics & 4 & 500 & 2000 & 38-42\\\\\n",
       "\t 16 & 2023-02-17 & CUST016 & Male   & 19 & Clothing    & 3 & 500 & 1500 & 18-22\\\\\n",
       "\t 17 & 2023-04-22 & CUST017 & Female & 27 & Clothing    & 4 &  25 &  100 & 23-27\\\\\n",
       "\t 18 & 2023-04-30 & CUST018 & Female & 47 & Electronics & 2 &  25 &   50 & 43-47\\\\\n",
       "\t 19 & 2023-09-16 & CUST019 & Female & 62 & Clothing    & 2 &  25 &   50 & 58-62\\\\\n",
       "\t 20 & 2023-11-05 & CUST020 & Male   & 22 & Clothing    & 3 & 300 &  900 & 18-22\\\\\n",
       "\t 21 & 2023-01-14 & CUST021 & Female & 50 & Beauty      & 1 & 500 &  500 & 48-52\\\\\n",
       "\t 22 & 2023-10-15 & CUST022 & Male   & 18 & Clothing    & 2 &  50 &  100 & 18-22\\\\\n",
       "\t 23 & 2023-04-12 & CUST023 & Female & 35 & Clothing    & 4 &  30 &  120 & 33-37\\\\\n",
       "\t 24 & 2023-11-29 & CUST024 & Female & 49 & Clothing    & 1 & 300 &  300 & 48-52\\\\\n",
       "\t 25 & 2023-12-26 & CUST025 & Female & 64 & Beauty      & 1 &  50 &   50 & NA   \\\\\n",
       "\t 26 & 2023-10-07 & CUST026 & Female & 28 & Electronics & 2 & 500 & 1000 & 28-32\\\\\n",
       "\t 27 & 2023-08-03 & CUST027 & Female & 38 & Beauty      & 2 &  25 &   50 & 38-42\\\\\n",
       "\t 28 & 2023-04-23 & CUST028 & Female & 43 & Beauty      & 1 & 500 &  500 & 43-47\\\\\n",
       "\t 29 & 2023-08-18 & CUST029 & Female & 42 & Electronics & 1 &  30 &   30 & 38-42\\\\\n",
       "\t 30 & 2023-10-29 & CUST030 & Female & 39 & Beauty      & 3 & 300 &  900 & 38-42\\\\\n",
       "\t ⋮ & ⋮ & ⋮ & ⋮ & ⋮ & ⋮ & ⋮ & ⋮ & ⋮ & ⋮\\\\\n",
       "\t  971 & 2023-12-05 & CUST971  & Female & 27 & Electronics & 4 &  50 &  200 & 23-27\\\\\n",
       "\t  972 & 2023-02-11 & CUST972  & Male   & 49 & Beauty      & 4 &  25 &  100 & 48-52\\\\\n",
       "\t  973 & 2023-03-22 & CUST973  & Male   & 60 & Clothing    & 1 &  50 &   50 & 58-62\\\\\n",
       "\t  974 & 2023-05-03 & CUST974  & Male   & 47 & Beauty      & 1 &  30 &   30 & 43-47\\\\\n",
       "\t  975 & 2023-03-30 & CUST975  & Female & 56 & Clothing    & 4 &  50 &  200 & 53-57\\\\\n",
       "\t  976 & 2023-10-10 & CUST976  & Female & 48 & Beauty      & 2 & 300 &  600 & 48-52\\\\\n",
       "\t  977 & 2023-02-08 & CUST977  & Female & 35 & Electronics & 3 &  25 &   75 & 33-37\\\\\n",
       "\t  978 & 2023-03-22 & CUST978  & Female & 53 & Clothing    & 3 &  50 &  150 & 53-57\\\\\n",
       "\t  979 & 2023-01-02 & CUST979  & Female & 19 & Beauty      & 1 &  25 &   25 & 18-22\\\\\n",
       "\t  980 & 2023-07-29 & CUST980  & Female & 31 & Electronics & 3 &  25 &   75 & 28-32\\\\\n",
       "\t  981 & 2023-08-19 & CUST981  & Female & 30 & Electronics & 2 &  30 &   60 & 28-32\\\\\n",
       "\t  982 & 2023-12-19 & CUST982  & Female & 46 & Beauty      & 3 &  30 &   90 & 43-47\\\\\n",
       "\t  983 & 2023-11-01 & CUST983  & Female & 29 & Clothing    & 1 & 300 &  300 & 28-32\\\\\n",
       "\t  984 & 2023-08-29 & CUST984  & Male   & 56 & Clothing    & 1 & 500 &  500 & 53-57\\\\\n",
       "\t  985 & 2023-05-30 & CUST985  & Female & 19 & Electronics & 2 &  25 &   50 & 18-22\\\\\n",
       "\t  986 & 2023-01-17 & CUST986  & Female & 49 & Clothing    & 2 & 500 & 1000 & 48-52\\\\\n",
       "\t  987 & 2023-04-29 & CUST987  & Female & 30 & Clothing    & 3 & 300 &  900 & 28-32\\\\\n",
       "\t  988 & 2023-05-28 & CUST988  & Female & 63 & Clothing    & 3 &  25 &   75 & NA   \\\\\n",
       "\t  989 & 2023-12-28 & CUST989  & Female & 44 & Electronics & 1 &  25 &   25 & 43-47\\\\\n",
       "\t  990 & 2023-05-25 & CUST990  & Female & 58 & Beauty      & 2 & 500 & 1000 & 58-62\\\\\n",
       "\t  991 & 2023-12-26 & CUST991  & Female & 34 & Clothing    & 2 &  50 &  100 & 33-37\\\\\n",
       "\t  992 & 2023-08-21 & CUST992  & Female & 57 & Electronics & 2 &  30 &   60 & 53-57\\\\\n",
       "\t  993 & 2023-02-06 & CUST993  & Female & 48 & Electronics & 3 &  50 &  150 & 48-52\\\\\n",
       "\t  994 & 2023-12-18 & CUST994  & Female & 51 & Beauty      & 2 & 500 & 1000 & 48-52\\\\\n",
       "\t  995 & 2023-04-30 & CUST995  & Female & 41 & Clothing    & 1 &  30 &   30 & 38-42\\\\\n",
       "\t  996 & 2023-05-16 & CUST996  & Male   & 62 & Clothing    & 1 &  50 &   50 & 58-62\\\\\n",
       "\t  997 & 2023-11-17 & CUST997  & Male   & 52 & Beauty      & 3 &  30 &   90 & 48-52\\\\\n",
       "\t  998 & 2023-10-29 & CUST998  & Female & 23 & Beauty      & 4 &  25 &  100 & 23-27\\\\\n",
       "\t  999 & 2023-12-05 & CUST999  & Female & 36 & Electronics & 3 &  50 &  150 & 33-37\\\\\n",
       "\t 1000 & 2023-04-12 & CUST1000 & Male   & 47 & Electronics & 4 &  30 &  120 & 43-47\\\\\n",
       "\\end{tabular}\n"
      ],
      "text/markdown": [
       "\n",
       "A tibble: 1000 × 10\n",
       "\n",
       "| transaction_id &lt;dbl&gt; | date &lt;date&gt; | customer_id &lt;chr&gt; | gender &lt;chr&gt; | age &lt;dbl&gt; | product_category &lt;chr&gt; | quantity &lt;dbl&gt; | price_per_unit &lt;dbl&gt; | total_amount &lt;dbl&gt; | age_group &lt;fct&gt; |\n",
       "|---|---|---|---|---|---|---|---|---|---|\n",
       "|  1 | 2023-11-24 | CUST001 | Male   | 34 | Beauty      | 3 |  50 |  150 | 33-37 |\n",
       "|  2 | 2023-02-27 | CUST002 | Female | 26 | Clothing    | 2 | 500 | 1000 | 23-27 |\n",
       "|  3 | 2023-01-13 | CUST003 | Male   | 50 | Electronics | 1 |  30 |   30 | 48-52 |\n",
       "|  4 | 2023-05-21 | CUST004 | Male   | 37 | Clothing    | 1 | 500 |  500 | 33-37 |\n",
       "|  5 | 2023-05-06 | CUST005 | Male   | 30 | Beauty      | 2 |  50 |  100 | 28-32 |\n",
       "|  6 | 2023-04-25 | CUST006 | Female | 45 | Beauty      | 1 |  30 |   30 | 43-47 |\n",
       "|  7 | 2023-03-13 | CUST007 | Male   | 46 | Clothing    | 2 |  25 |   50 | 43-47 |\n",
       "|  8 | 2023-02-22 | CUST008 | Male   | 30 | Electronics | 4 |  25 |  100 | 28-32 |\n",
       "|  9 | 2023-12-13 | CUST009 | Male   | 63 | Electronics | 2 | 300 |  600 | NA    |\n",
       "| 10 | 2023-10-07 | CUST010 | Female | 52 | Clothing    | 4 |  50 |  200 | 48-52 |\n",
       "| 11 | 2023-02-14 | CUST011 | Male   | 23 | Clothing    | 2 |  50 |  100 | 23-27 |\n",
       "| 12 | 2023-10-30 | CUST012 | Male   | 35 | Beauty      | 3 |  25 |   75 | 33-37 |\n",
       "| 13 | 2023-08-05 | CUST013 | Male   | 22 | Electronics | 3 | 500 | 1500 | 18-22 |\n",
       "| 14 | 2023-01-17 | CUST014 | Male   | 64 | Clothing    | 4 |  30 |  120 | NA    |\n",
       "| 15 | 2023-01-16 | CUST015 | Female | 42 | Electronics | 4 | 500 | 2000 | 38-42 |\n",
       "| 16 | 2023-02-17 | CUST016 | Male   | 19 | Clothing    | 3 | 500 | 1500 | 18-22 |\n",
       "| 17 | 2023-04-22 | CUST017 | Female | 27 | Clothing    | 4 |  25 |  100 | 23-27 |\n",
       "| 18 | 2023-04-30 | CUST018 | Female | 47 | Electronics | 2 |  25 |   50 | 43-47 |\n",
       "| 19 | 2023-09-16 | CUST019 | Female | 62 | Clothing    | 2 |  25 |   50 | 58-62 |\n",
       "| 20 | 2023-11-05 | CUST020 | Male   | 22 | Clothing    | 3 | 300 |  900 | 18-22 |\n",
       "| 21 | 2023-01-14 | CUST021 | Female | 50 | Beauty      | 1 | 500 |  500 | 48-52 |\n",
       "| 22 | 2023-10-15 | CUST022 | Male   | 18 | Clothing    | 2 |  50 |  100 | 18-22 |\n",
       "| 23 | 2023-04-12 | CUST023 | Female | 35 | Clothing    | 4 |  30 |  120 | 33-37 |\n",
       "| 24 | 2023-11-29 | CUST024 | Female | 49 | Clothing    | 1 | 300 |  300 | 48-52 |\n",
       "| 25 | 2023-12-26 | CUST025 | Female | 64 | Beauty      | 1 |  50 |   50 | NA    |\n",
       "| 26 | 2023-10-07 | CUST026 | Female | 28 | Electronics | 2 | 500 | 1000 | 28-32 |\n",
       "| 27 | 2023-08-03 | CUST027 | Female | 38 | Beauty      | 2 |  25 |   50 | 38-42 |\n",
       "| 28 | 2023-04-23 | CUST028 | Female | 43 | Beauty      | 1 | 500 |  500 | 43-47 |\n",
       "| 29 | 2023-08-18 | CUST029 | Female | 42 | Electronics | 1 |  30 |   30 | 38-42 |\n",
       "| 30 | 2023-10-29 | CUST030 | Female | 39 | Beauty      | 3 | 300 |  900 | 38-42 |\n",
       "| ⋮ | ⋮ | ⋮ | ⋮ | ⋮ | ⋮ | ⋮ | ⋮ | ⋮ | ⋮ |\n",
       "|  971 | 2023-12-05 | CUST971  | Female | 27 | Electronics | 4 |  50 |  200 | 23-27 |\n",
       "|  972 | 2023-02-11 | CUST972  | Male   | 49 | Beauty      | 4 |  25 |  100 | 48-52 |\n",
       "|  973 | 2023-03-22 | CUST973  | Male   | 60 | Clothing    | 1 |  50 |   50 | 58-62 |\n",
       "|  974 | 2023-05-03 | CUST974  | Male   | 47 | Beauty      | 1 |  30 |   30 | 43-47 |\n",
       "|  975 | 2023-03-30 | CUST975  | Female | 56 | Clothing    | 4 |  50 |  200 | 53-57 |\n",
       "|  976 | 2023-10-10 | CUST976  | Female | 48 | Beauty      | 2 | 300 |  600 | 48-52 |\n",
       "|  977 | 2023-02-08 | CUST977  | Female | 35 | Electronics | 3 |  25 |   75 | 33-37 |\n",
       "|  978 | 2023-03-22 | CUST978  | Female | 53 | Clothing    | 3 |  50 |  150 | 53-57 |\n",
       "|  979 | 2023-01-02 | CUST979  | Female | 19 | Beauty      | 1 |  25 |   25 | 18-22 |\n",
       "|  980 | 2023-07-29 | CUST980  | Female | 31 | Electronics | 3 |  25 |   75 | 28-32 |\n",
       "|  981 | 2023-08-19 | CUST981  | Female | 30 | Electronics | 2 |  30 |   60 | 28-32 |\n",
       "|  982 | 2023-12-19 | CUST982  | Female | 46 | Beauty      | 3 |  30 |   90 | 43-47 |\n",
       "|  983 | 2023-11-01 | CUST983  | Female | 29 | Clothing    | 1 | 300 |  300 | 28-32 |\n",
       "|  984 | 2023-08-29 | CUST984  | Male   | 56 | Clothing    | 1 | 500 |  500 | 53-57 |\n",
       "|  985 | 2023-05-30 | CUST985  | Female | 19 | Electronics | 2 |  25 |   50 | 18-22 |\n",
       "|  986 | 2023-01-17 | CUST986  | Female | 49 | Clothing    | 2 | 500 | 1000 | 48-52 |\n",
       "|  987 | 2023-04-29 | CUST987  | Female | 30 | Clothing    | 3 | 300 |  900 | 28-32 |\n",
       "|  988 | 2023-05-28 | CUST988  | Female | 63 | Clothing    | 3 |  25 |   75 | NA    |\n",
       "|  989 | 2023-12-28 | CUST989  | Female | 44 | Electronics | 1 |  25 |   25 | 43-47 |\n",
       "|  990 | 2023-05-25 | CUST990  | Female | 58 | Beauty      | 2 | 500 | 1000 | 58-62 |\n",
       "|  991 | 2023-12-26 | CUST991  | Female | 34 | Clothing    | 2 |  50 |  100 | 33-37 |\n",
       "|  992 | 2023-08-21 | CUST992  | Female | 57 | Electronics | 2 |  30 |   60 | 53-57 |\n",
       "|  993 | 2023-02-06 | CUST993  | Female | 48 | Electronics | 3 |  50 |  150 | 48-52 |\n",
       "|  994 | 2023-12-18 | CUST994  | Female | 51 | Beauty      | 2 | 500 | 1000 | 48-52 |\n",
       "|  995 | 2023-04-30 | CUST995  | Female | 41 | Clothing    | 1 |  30 |   30 | 38-42 |\n",
       "|  996 | 2023-05-16 | CUST996  | Male   | 62 | Clothing    | 1 |  50 |   50 | 58-62 |\n",
       "|  997 | 2023-11-17 | CUST997  | Male   | 52 | Beauty      | 3 |  30 |   90 | 48-52 |\n",
       "|  998 | 2023-10-29 | CUST998  | Female | 23 | Beauty      | 4 |  25 |  100 | 23-27 |\n",
       "|  999 | 2023-12-05 | CUST999  | Female | 36 | Electronics | 3 |  50 |  150 | 33-37 |\n",
       "| 1000 | 2023-04-12 | CUST1000 | Male   | 47 | Electronics | 4 |  30 |  120 | 43-47 |\n",
       "\n"
      ],
      "text/plain": [
       "     transaction_id date       customer_id gender age product_category quantity\n",
       "1     1             2023-11-24 CUST001     Male   34  Beauty           3       \n",
       "2     2             2023-02-27 CUST002     Female 26  Clothing         2       \n",
       "3     3             2023-01-13 CUST003     Male   50  Electronics      1       \n",
       "4     4             2023-05-21 CUST004     Male   37  Clothing         1       \n",
       "5     5             2023-05-06 CUST005     Male   30  Beauty           2       \n",
       "6     6             2023-04-25 CUST006     Female 45  Beauty           1       \n",
       "7     7             2023-03-13 CUST007     Male   46  Clothing         2       \n",
       "8     8             2023-02-22 CUST008     Male   30  Electronics      4       \n",
       "9     9             2023-12-13 CUST009     Male   63  Electronics      2       \n",
       "10   10             2023-10-07 CUST010     Female 52  Clothing         4       \n",
       "11   11             2023-02-14 CUST011     Male   23  Clothing         2       \n",
       "12   12             2023-10-30 CUST012     Male   35  Beauty           3       \n",
       "13   13             2023-08-05 CUST013     Male   22  Electronics      3       \n",
       "14   14             2023-01-17 CUST014     Male   64  Clothing         4       \n",
       "15   15             2023-01-16 CUST015     Female 42  Electronics      4       \n",
       "16   16             2023-02-17 CUST016     Male   19  Clothing         3       \n",
       "17   17             2023-04-22 CUST017     Female 27  Clothing         4       \n",
       "18   18             2023-04-30 CUST018     Female 47  Electronics      2       \n",
       "19   19             2023-09-16 CUST019     Female 62  Clothing         2       \n",
       "20   20             2023-11-05 CUST020     Male   22  Clothing         3       \n",
       "21   21             2023-01-14 CUST021     Female 50  Beauty           1       \n",
       "22   22             2023-10-15 CUST022     Male   18  Clothing         2       \n",
       "23   23             2023-04-12 CUST023     Female 35  Clothing         4       \n",
       "24   24             2023-11-29 CUST024     Female 49  Clothing         1       \n",
       "25   25             2023-12-26 CUST025     Female 64  Beauty           1       \n",
       "26   26             2023-10-07 CUST026     Female 28  Electronics      2       \n",
       "27   27             2023-08-03 CUST027     Female 38  Beauty           2       \n",
       "28   28             2023-04-23 CUST028     Female 43  Beauty           1       \n",
       "29   29             2023-08-18 CUST029     Female 42  Electronics      1       \n",
       "30   30             2023-10-29 CUST030     Female 39  Beauty           3       \n",
       "⋮    ⋮              ⋮          ⋮           ⋮      ⋮   ⋮                ⋮       \n",
       "971   971           2023-12-05 CUST971     Female 27  Electronics      4       \n",
       "972   972           2023-02-11 CUST972     Male   49  Beauty           4       \n",
       "973   973           2023-03-22 CUST973     Male   60  Clothing         1       \n",
       "974   974           2023-05-03 CUST974     Male   47  Beauty           1       \n",
       "975   975           2023-03-30 CUST975     Female 56  Clothing         4       \n",
       "976   976           2023-10-10 CUST976     Female 48  Beauty           2       \n",
       "977   977           2023-02-08 CUST977     Female 35  Electronics      3       \n",
       "978   978           2023-03-22 CUST978     Female 53  Clothing         3       \n",
       "979   979           2023-01-02 CUST979     Female 19  Beauty           1       \n",
       "980   980           2023-07-29 CUST980     Female 31  Electronics      3       \n",
       "981   981           2023-08-19 CUST981     Female 30  Electronics      2       \n",
       "982   982           2023-12-19 CUST982     Female 46  Beauty           3       \n",
       "983   983           2023-11-01 CUST983     Female 29  Clothing         1       \n",
       "984   984           2023-08-29 CUST984     Male   56  Clothing         1       \n",
       "985   985           2023-05-30 CUST985     Female 19  Electronics      2       \n",
       "986   986           2023-01-17 CUST986     Female 49  Clothing         2       \n",
       "987   987           2023-04-29 CUST987     Female 30  Clothing         3       \n",
       "988   988           2023-05-28 CUST988     Female 63  Clothing         3       \n",
       "989   989           2023-12-28 CUST989     Female 44  Electronics      1       \n",
       "990   990           2023-05-25 CUST990     Female 58  Beauty           2       \n",
       "991   991           2023-12-26 CUST991     Female 34  Clothing         2       \n",
       "992   992           2023-08-21 CUST992     Female 57  Electronics      2       \n",
       "993   993           2023-02-06 CUST993     Female 48  Electronics      3       \n",
       "994   994           2023-12-18 CUST994     Female 51  Beauty           2       \n",
       "995   995           2023-04-30 CUST995     Female 41  Clothing         1       \n",
       "996   996           2023-05-16 CUST996     Male   62  Clothing         1       \n",
       "997   997           2023-11-17 CUST997     Male   52  Beauty           3       \n",
       "998   998           2023-10-29 CUST998     Female 23  Beauty           4       \n",
       "999   999           2023-12-05 CUST999     Female 36  Electronics      3       \n",
       "1000 1000           2023-04-12 CUST1000    Male   47  Electronics      4       \n",
       "     price_per_unit total_amount age_group\n",
       "1     50             150         33-37    \n",
       "2    500            1000         23-27    \n",
       "3     30              30         48-52    \n",
       "4    500             500         33-37    \n",
       "5     50             100         28-32    \n",
       "6     30              30         43-47    \n",
       "7     25              50         43-47    \n",
       "8     25             100         28-32    \n",
       "9    300             600         NA       \n",
       "10    50             200         48-52    \n",
       "11    50             100         23-27    \n",
       "12    25              75         33-37    \n",
       "13   500            1500         18-22    \n",
       "14    30             120         NA       \n",
       "15   500            2000         38-42    \n",
       "16   500            1500         18-22    \n",
       "17    25             100         23-27    \n",
       "18    25              50         43-47    \n",
       "19    25              50         58-62    \n",
       "20   300             900         18-22    \n",
       "21   500             500         48-52    \n",
       "22    50             100         18-22    \n",
       "23    30             120         33-37    \n",
       "24   300             300         48-52    \n",
       "25    50              50         NA       \n",
       "26   500            1000         28-32    \n",
       "27    25              50         38-42    \n",
       "28   500             500         43-47    \n",
       "29    30              30         38-42    \n",
       "30   300             900         38-42    \n",
       "⋮    ⋮              ⋮            ⋮        \n",
       "971   50             200         23-27    \n",
       "972   25             100         48-52    \n",
       "973   50              50         58-62    \n",
       "974   30              30         43-47    \n",
       "975   50             200         53-57    \n",
       "976  300             600         48-52    \n",
       "977   25              75         33-37    \n",
       "978   50             150         53-57    \n",
       "979   25              25         18-22    \n",
       "980   25              75         28-32    \n",
       "981   30              60         28-32    \n",
       "982   30              90         43-47    \n",
       "983  300             300         28-32    \n",
       "984  500             500         53-57    \n",
       "985   25              50         18-22    \n",
       "986  500            1000         48-52    \n",
       "987  300             900         28-32    \n",
       "988   25              75         NA       \n",
       "989   25              25         43-47    \n",
       "990  500            1000         58-62    \n",
       "991   50             100         33-37    \n",
       "992   30              60         53-57    \n",
       "993   50             150         48-52    \n",
       "994  500            1000         48-52    \n",
       "995   30              30         38-42    \n",
       "996   50              50         58-62    \n",
       "997   30              90         48-52    \n",
       "998   25             100         23-27    \n",
       "999   50             150         33-37    \n",
       "1000  30             120         43-47    "
      ]
     },
     "metadata": {},
     "output_type": "display_data"
    }
   ],
   "source": [
    "View(data)"
   ]
  },
  {
   "cell_type": "markdown",
   "id": "f239186e",
   "metadata": {
    "papermill": {
     "duration": 0.01112,
     "end_time": "2024-08-16T11:30:49.375235",
     "exception": false,
     "start_time": "2024-08-16T11:30:49.364115",
     "status": "completed"
    },
    "tags": []
   },
   "source": [
    "From the result above, the user that have age of 63 and 64 have a N/A result on age group columns. We need to add the age group for user age 63 and 64 \n",
    "\n",
    "#### Add the age group for user age 63 and 64"
   ]
  },
  {
   "cell_type": "code",
   "execution_count": 12,
   "id": "61d59555",
   "metadata": {
    "execution": {
     "iopub.execute_input": "2024-08-16T11:30:49.401395Z",
     "iopub.status.busy": "2024-08-16T11:30:49.399668Z",
     "iopub.status.idle": "2024-08-16T11:30:49.416310Z",
     "shell.execute_reply": "2024-08-16T11:30:49.414320Z"
    },
    "papermill": {
     "duration": 0.032746,
     "end_time": "2024-08-16T11:30:49.419242",
     "exception": false,
     "start_time": "2024-08-16T11:30:49.386496",
     "status": "completed"
    },
    "tags": []
   },
   "outputs": [],
   "source": [
    "data = data %>%\n",
    "  mutate (age_group = ifelse(age >= 63 & age <= 64, \"63-64\", as.character(age_group)))"
   ]
  },
  {
   "cell_type": "markdown",
   "id": "211f55de",
   "metadata": {
    "papermill": {
     "duration": 0.011185,
     "end_time": "2024-08-16T11:30:49.441713",
     "exception": false,
     "start_time": "2024-08-16T11:30:49.430528",
     "status": "completed"
    },
    "tags": []
   },
   "source": [
    "#### View the age groups "
   ]
  },
  {
   "cell_type": "code",
   "execution_count": 13,
   "id": "3679c97a",
   "metadata": {
    "execution": {
     "iopub.execute_input": "2024-08-16T11:30:49.467659Z",
     "iopub.status.busy": "2024-08-16T11:30:49.465990Z",
     "iopub.status.idle": "2024-08-16T11:30:49.594268Z",
     "shell.execute_reply": "2024-08-16T11:30:49.592297Z"
    },
    "papermill": {
     "duration": 0.144118,
     "end_time": "2024-08-16T11:30:49.596957",
     "exception": false,
     "start_time": "2024-08-16T11:30:49.452839",
     "status": "completed"
    },
    "tags": []
   },
   "outputs": [
    {
     "data": {
      "text/html": [
       "<table class=\"dataframe\">\n",
       "<caption>A tibble: 1000 × 10</caption>\n",
       "<thead>\n",
       "\t<tr><th scope=col>transaction_id</th><th scope=col>date</th><th scope=col>customer_id</th><th scope=col>gender</th><th scope=col>age</th><th scope=col>product_category</th><th scope=col>quantity</th><th scope=col>price_per_unit</th><th scope=col>total_amount</th><th scope=col>age_group</th></tr>\n",
       "\t<tr><th scope=col>&lt;dbl&gt;</th><th scope=col>&lt;date&gt;</th><th scope=col>&lt;chr&gt;</th><th scope=col>&lt;chr&gt;</th><th scope=col>&lt;dbl&gt;</th><th scope=col>&lt;chr&gt;</th><th scope=col>&lt;dbl&gt;</th><th scope=col>&lt;dbl&gt;</th><th scope=col>&lt;dbl&gt;</th><th scope=col>&lt;chr&gt;</th></tr>\n",
       "</thead>\n",
       "<tbody>\n",
       "\t<tr><td> 1</td><td>2023-11-24</td><td>CUST001</td><td>Male  </td><td>34</td><td>Beauty     </td><td>3</td><td> 50</td><td> 150</td><td>33-37</td></tr>\n",
       "\t<tr><td> 2</td><td>2023-02-27</td><td>CUST002</td><td>Female</td><td>26</td><td>Clothing   </td><td>2</td><td>500</td><td>1000</td><td>23-27</td></tr>\n",
       "\t<tr><td> 3</td><td>2023-01-13</td><td>CUST003</td><td>Male  </td><td>50</td><td>Electronics</td><td>1</td><td> 30</td><td>  30</td><td>48-52</td></tr>\n",
       "\t<tr><td> 4</td><td>2023-05-21</td><td>CUST004</td><td>Male  </td><td>37</td><td>Clothing   </td><td>1</td><td>500</td><td> 500</td><td>33-37</td></tr>\n",
       "\t<tr><td> 5</td><td>2023-05-06</td><td>CUST005</td><td>Male  </td><td>30</td><td>Beauty     </td><td>2</td><td> 50</td><td> 100</td><td>28-32</td></tr>\n",
       "\t<tr><td> 6</td><td>2023-04-25</td><td>CUST006</td><td>Female</td><td>45</td><td>Beauty     </td><td>1</td><td> 30</td><td>  30</td><td>43-47</td></tr>\n",
       "\t<tr><td> 7</td><td>2023-03-13</td><td>CUST007</td><td>Male  </td><td>46</td><td>Clothing   </td><td>2</td><td> 25</td><td>  50</td><td>43-47</td></tr>\n",
       "\t<tr><td> 8</td><td>2023-02-22</td><td>CUST008</td><td>Male  </td><td>30</td><td>Electronics</td><td>4</td><td> 25</td><td> 100</td><td>28-32</td></tr>\n",
       "\t<tr><td> 9</td><td>2023-12-13</td><td>CUST009</td><td>Male  </td><td>63</td><td>Electronics</td><td>2</td><td>300</td><td> 600</td><td>63-64</td></tr>\n",
       "\t<tr><td>10</td><td>2023-10-07</td><td>CUST010</td><td>Female</td><td>52</td><td>Clothing   </td><td>4</td><td> 50</td><td> 200</td><td>48-52</td></tr>\n",
       "\t<tr><td>11</td><td>2023-02-14</td><td>CUST011</td><td>Male  </td><td>23</td><td>Clothing   </td><td>2</td><td> 50</td><td> 100</td><td>23-27</td></tr>\n",
       "\t<tr><td>12</td><td>2023-10-30</td><td>CUST012</td><td>Male  </td><td>35</td><td>Beauty     </td><td>3</td><td> 25</td><td>  75</td><td>33-37</td></tr>\n",
       "\t<tr><td>13</td><td>2023-08-05</td><td>CUST013</td><td>Male  </td><td>22</td><td>Electronics</td><td>3</td><td>500</td><td>1500</td><td>18-22</td></tr>\n",
       "\t<tr><td>14</td><td>2023-01-17</td><td>CUST014</td><td>Male  </td><td>64</td><td>Clothing   </td><td>4</td><td> 30</td><td> 120</td><td>63-64</td></tr>\n",
       "\t<tr><td>15</td><td>2023-01-16</td><td>CUST015</td><td>Female</td><td>42</td><td>Electronics</td><td>4</td><td>500</td><td>2000</td><td>38-42</td></tr>\n",
       "\t<tr><td>16</td><td>2023-02-17</td><td>CUST016</td><td>Male  </td><td>19</td><td>Clothing   </td><td>3</td><td>500</td><td>1500</td><td>18-22</td></tr>\n",
       "\t<tr><td>17</td><td>2023-04-22</td><td>CUST017</td><td>Female</td><td>27</td><td>Clothing   </td><td>4</td><td> 25</td><td> 100</td><td>23-27</td></tr>\n",
       "\t<tr><td>18</td><td>2023-04-30</td><td>CUST018</td><td>Female</td><td>47</td><td>Electronics</td><td>2</td><td> 25</td><td>  50</td><td>43-47</td></tr>\n",
       "\t<tr><td>19</td><td>2023-09-16</td><td>CUST019</td><td>Female</td><td>62</td><td>Clothing   </td><td>2</td><td> 25</td><td>  50</td><td>58-62</td></tr>\n",
       "\t<tr><td>20</td><td>2023-11-05</td><td>CUST020</td><td>Male  </td><td>22</td><td>Clothing   </td><td>3</td><td>300</td><td> 900</td><td>18-22</td></tr>\n",
       "\t<tr><td>21</td><td>2023-01-14</td><td>CUST021</td><td>Female</td><td>50</td><td>Beauty     </td><td>1</td><td>500</td><td> 500</td><td>48-52</td></tr>\n",
       "\t<tr><td>22</td><td>2023-10-15</td><td>CUST022</td><td>Male  </td><td>18</td><td>Clothing   </td><td>2</td><td> 50</td><td> 100</td><td>18-22</td></tr>\n",
       "\t<tr><td>23</td><td>2023-04-12</td><td>CUST023</td><td>Female</td><td>35</td><td>Clothing   </td><td>4</td><td> 30</td><td> 120</td><td>33-37</td></tr>\n",
       "\t<tr><td>24</td><td>2023-11-29</td><td>CUST024</td><td>Female</td><td>49</td><td>Clothing   </td><td>1</td><td>300</td><td> 300</td><td>48-52</td></tr>\n",
       "\t<tr><td>25</td><td>2023-12-26</td><td>CUST025</td><td>Female</td><td>64</td><td>Beauty     </td><td>1</td><td> 50</td><td>  50</td><td>63-64</td></tr>\n",
       "\t<tr><td>26</td><td>2023-10-07</td><td>CUST026</td><td>Female</td><td>28</td><td>Electronics</td><td>2</td><td>500</td><td>1000</td><td>28-32</td></tr>\n",
       "\t<tr><td>27</td><td>2023-08-03</td><td>CUST027</td><td>Female</td><td>38</td><td>Beauty     </td><td>2</td><td> 25</td><td>  50</td><td>38-42</td></tr>\n",
       "\t<tr><td>28</td><td>2023-04-23</td><td>CUST028</td><td>Female</td><td>43</td><td>Beauty     </td><td>1</td><td>500</td><td> 500</td><td>43-47</td></tr>\n",
       "\t<tr><td>29</td><td>2023-08-18</td><td>CUST029</td><td>Female</td><td>42</td><td>Electronics</td><td>1</td><td> 30</td><td>  30</td><td>38-42</td></tr>\n",
       "\t<tr><td>30</td><td>2023-10-29</td><td>CUST030</td><td>Female</td><td>39</td><td>Beauty     </td><td>3</td><td>300</td><td> 900</td><td>38-42</td></tr>\n",
       "\t<tr><td>⋮</td><td>⋮</td><td>⋮</td><td>⋮</td><td>⋮</td><td>⋮</td><td>⋮</td><td>⋮</td><td>⋮</td><td>⋮</td></tr>\n",
       "\t<tr><td> 971</td><td>2023-12-05</td><td>CUST971 </td><td>Female</td><td>27</td><td>Electronics</td><td>4</td><td> 50</td><td> 200</td><td>23-27</td></tr>\n",
       "\t<tr><td> 972</td><td>2023-02-11</td><td>CUST972 </td><td>Male  </td><td>49</td><td>Beauty     </td><td>4</td><td> 25</td><td> 100</td><td>48-52</td></tr>\n",
       "\t<tr><td> 973</td><td>2023-03-22</td><td>CUST973 </td><td>Male  </td><td>60</td><td>Clothing   </td><td>1</td><td> 50</td><td>  50</td><td>58-62</td></tr>\n",
       "\t<tr><td> 974</td><td>2023-05-03</td><td>CUST974 </td><td>Male  </td><td>47</td><td>Beauty     </td><td>1</td><td> 30</td><td>  30</td><td>43-47</td></tr>\n",
       "\t<tr><td> 975</td><td>2023-03-30</td><td>CUST975 </td><td>Female</td><td>56</td><td>Clothing   </td><td>4</td><td> 50</td><td> 200</td><td>53-57</td></tr>\n",
       "\t<tr><td> 976</td><td>2023-10-10</td><td>CUST976 </td><td>Female</td><td>48</td><td>Beauty     </td><td>2</td><td>300</td><td> 600</td><td>48-52</td></tr>\n",
       "\t<tr><td> 977</td><td>2023-02-08</td><td>CUST977 </td><td>Female</td><td>35</td><td>Electronics</td><td>3</td><td> 25</td><td>  75</td><td>33-37</td></tr>\n",
       "\t<tr><td> 978</td><td>2023-03-22</td><td>CUST978 </td><td>Female</td><td>53</td><td>Clothing   </td><td>3</td><td> 50</td><td> 150</td><td>53-57</td></tr>\n",
       "\t<tr><td> 979</td><td>2023-01-02</td><td>CUST979 </td><td>Female</td><td>19</td><td>Beauty     </td><td>1</td><td> 25</td><td>  25</td><td>18-22</td></tr>\n",
       "\t<tr><td> 980</td><td>2023-07-29</td><td>CUST980 </td><td>Female</td><td>31</td><td>Electronics</td><td>3</td><td> 25</td><td>  75</td><td>28-32</td></tr>\n",
       "\t<tr><td> 981</td><td>2023-08-19</td><td>CUST981 </td><td>Female</td><td>30</td><td>Electronics</td><td>2</td><td> 30</td><td>  60</td><td>28-32</td></tr>\n",
       "\t<tr><td> 982</td><td>2023-12-19</td><td>CUST982 </td><td>Female</td><td>46</td><td>Beauty     </td><td>3</td><td> 30</td><td>  90</td><td>43-47</td></tr>\n",
       "\t<tr><td> 983</td><td>2023-11-01</td><td>CUST983 </td><td>Female</td><td>29</td><td>Clothing   </td><td>1</td><td>300</td><td> 300</td><td>28-32</td></tr>\n",
       "\t<tr><td> 984</td><td>2023-08-29</td><td>CUST984 </td><td>Male  </td><td>56</td><td>Clothing   </td><td>1</td><td>500</td><td> 500</td><td>53-57</td></tr>\n",
       "\t<tr><td> 985</td><td>2023-05-30</td><td>CUST985 </td><td>Female</td><td>19</td><td>Electronics</td><td>2</td><td> 25</td><td>  50</td><td>18-22</td></tr>\n",
       "\t<tr><td> 986</td><td>2023-01-17</td><td>CUST986 </td><td>Female</td><td>49</td><td>Clothing   </td><td>2</td><td>500</td><td>1000</td><td>48-52</td></tr>\n",
       "\t<tr><td> 987</td><td>2023-04-29</td><td>CUST987 </td><td>Female</td><td>30</td><td>Clothing   </td><td>3</td><td>300</td><td> 900</td><td>28-32</td></tr>\n",
       "\t<tr><td> 988</td><td>2023-05-28</td><td>CUST988 </td><td>Female</td><td>63</td><td>Clothing   </td><td>3</td><td> 25</td><td>  75</td><td>63-64</td></tr>\n",
       "\t<tr><td> 989</td><td>2023-12-28</td><td>CUST989 </td><td>Female</td><td>44</td><td>Electronics</td><td>1</td><td> 25</td><td>  25</td><td>43-47</td></tr>\n",
       "\t<tr><td> 990</td><td>2023-05-25</td><td>CUST990 </td><td>Female</td><td>58</td><td>Beauty     </td><td>2</td><td>500</td><td>1000</td><td>58-62</td></tr>\n",
       "\t<tr><td> 991</td><td>2023-12-26</td><td>CUST991 </td><td>Female</td><td>34</td><td>Clothing   </td><td>2</td><td> 50</td><td> 100</td><td>33-37</td></tr>\n",
       "\t<tr><td> 992</td><td>2023-08-21</td><td>CUST992 </td><td>Female</td><td>57</td><td>Electronics</td><td>2</td><td> 30</td><td>  60</td><td>53-57</td></tr>\n",
       "\t<tr><td> 993</td><td>2023-02-06</td><td>CUST993 </td><td>Female</td><td>48</td><td>Electronics</td><td>3</td><td> 50</td><td> 150</td><td>48-52</td></tr>\n",
       "\t<tr><td> 994</td><td>2023-12-18</td><td>CUST994 </td><td>Female</td><td>51</td><td>Beauty     </td><td>2</td><td>500</td><td>1000</td><td>48-52</td></tr>\n",
       "\t<tr><td> 995</td><td>2023-04-30</td><td>CUST995 </td><td>Female</td><td>41</td><td>Clothing   </td><td>1</td><td> 30</td><td>  30</td><td>38-42</td></tr>\n",
       "\t<tr><td> 996</td><td>2023-05-16</td><td>CUST996 </td><td>Male  </td><td>62</td><td>Clothing   </td><td>1</td><td> 50</td><td>  50</td><td>58-62</td></tr>\n",
       "\t<tr><td> 997</td><td>2023-11-17</td><td>CUST997 </td><td>Male  </td><td>52</td><td>Beauty     </td><td>3</td><td> 30</td><td>  90</td><td>48-52</td></tr>\n",
       "\t<tr><td> 998</td><td>2023-10-29</td><td>CUST998 </td><td>Female</td><td>23</td><td>Beauty     </td><td>4</td><td> 25</td><td> 100</td><td>23-27</td></tr>\n",
       "\t<tr><td> 999</td><td>2023-12-05</td><td>CUST999 </td><td>Female</td><td>36</td><td>Electronics</td><td>3</td><td> 50</td><td> 150</td><td>33-37</td></tr>\n",
       "\t<tr><td>1000</td><td>2023-04-12</td><td>CUST1000</td><td>Male  </td><td>47</td><td>Electronics</td><td>4</td><td> 30</td><td> 120</td><td>43-47</td></tr>\n",
       "</tbody>\n",
       "</table>\n"
      ],
      "text/latex": [
       "A tibble: 1000 × 10\n",
       "\\begin{tabular}{llllllllll}\n",
       " transaction\\_id & date & customer\\_id & gender & age & product\\_category & quantity & price\\_per\\_unit & total\\_amount & age\\_group\\\\\n",
       " <dbl> & <date> & <chr> & <chr> & <dbl> & <chr> & <dbl> & <dbl> & <dbl> & <chr>\\\\\n",
       "\\hline\n",
       "\t  1 & 2023-11-24 & CUST001 & Male   & 34 & Beauty      & 3 &  50 &  150 & 33-37\\\\\n",
       "\t  2 & 2023-02-27 & CUST002 & Female & 26 & Clothing    & 2 & 500 & 1000 & 23-27\\\\\n",
       "\t  3 & 2023-01-13 & CUST003 & Male   & 50 & Electronics & 1 &  30 &   30 & 48-52\\\\\n",
       "\t  4 & 2023-05-21 & CUST004 & Male   & 37 & Clothing    & 1 & 500 &  500 & 33-37\\\\\n",
       "\t  5 & 2023-05-06 & CUST005 & Male   & 30 & Beauty      & 2 &  50 &  100 & 28-32\\\\\n",
       "\t  6 & 2023-04-25 & CUST006 & Female & 45 & Beauty      & 1 &  30 &   30 & 43-47\\\\\n",
       "\t  7 & 2023-03-13 & CUST007 & Male   & 46 & Clothing    & 2 &  25 &   50 & 43-47\\\\\n",
       "\t  8 & 2023-02-22 & CUST008 & Male   & 30 & Electronics & 4 &  25 &  100 & 28-32\\\\\n",
       "\t  9 & 2023-12-13 & CUST009 & Male   & 63 & Electronics & 2 & 300 &  600 & 63-64\\\\\n",
       "\t 10 & 2023-10-07 & CUST010 & Female & 52 & Clothing    & 4 &  50 &  200 & 48-52\\\\\n",
       "\t 11 & 2023-02-14 & CUST011 & Male   & 23 & Clothing    & 2 &  50 &  100 & 23-27\\\\\n",
       "\t 12 & 2023-10-30 & CUST012 & Male   & 35 & Beauty      & 3 &  25 &   75 & 33-37\\\\\n",
       "\t 13 & 2023-08-05 & CUST013 & Male   & 22 & Electronics & 3 & 500 & 1500 & 18-22\\\\\n",
       "\t 14 & 2023-01-17 & CUST014 & Male   & 64 & Clothing    & 4 &  30 &  120 & 63-64\\\\\n",
       "\t 15 & 2023-01-16 & CUST015 & Female & 42 & Electronics & 4 & 500 & 2000 & 38-42\\\\\n",
       "\t 16 & 2023-02-17 & CUST016 & Male   & 19 & Clothing    & 3 & 500 & 1500 & 18-22\\\\\n",
       "\t 17 & 2023-04-22 & CUST017 & Female & 27 & Clothing    & 4 &  25 &  100 & 23-27\\\\\n",
       "\t 18 & 2023-04-30 & CUST018 & Female & 47 & Electronics & 2 &  25 &   50 & 43-47\\\\\n",
       "\t 19 & 2023-09-16 & CUST019 & Female & 62 & Clothing    & 2 &  25 &   50 & 58-62\\\\\n",
       "\t 20 & 2023-11-05 & CUST020 & Male   & 22 & Clothing    & 3 & 300 &  900 & 18-22\\\\\n",
       "\t 21 & 2023-01-14 & CUST021 & Female & 50 & Beauty      & 1 & 500 &  500 & 48-52\\\\\n",
       "\t 22 & 2023-10-15 & CUST022 & Male   & 18 & Clothing    & 2 &  50 &  100 & 18-22\\\\\n",
       "\t 23 & 2023-04-12 & CUST023 & Female & 35 & Clothing    & 4 &  30 &  120 & 33-37\\\\\n",
       "\t 24 & 2023-11-29 & CUST024 & Female & 49 & Clothing    & 1 & 300 &  300 & 48-52\\\\\n",
       "\t 25 & 2023-12-26 & CUST025 & Female & 64 & Beauty      & 1 &  50 &   50 & 63-64\\\\\n",
       "\t 26 & 2023-10-07 & CUST026 & Female & 28 & Electronics & 2 & 500 & 1000 & 28-32\\\\\n",
       "\t 27 & 2023-08-03 & CUST027 & Female & 38 & Beauty      & 2 &  25 &   50 & 38-42\\\\\n",
       "\t 28 & 2023-04-23 & CUST028 & Female & 43 & Beauty      & 1 & 500 &  500 & 43-47\\\\\n",
       "\t 29 & 2023-08-18 & CUST029 & Female & 42 & Electronics & 1 &  30 &   30 & 38-42\\\\\n",
       "\t 30 & 2023-10-29 & CUST030 & Female & 39 & Beauty      & 3 & 300 &  900 & 38-42\\\\\n",
       "\t ⋮ & ⋮ & ⋮ & ⋮ & ⋮ & ⋮ & ⋮ & ⋮ & ⋮ & ⋮\\\\\n",
       "\t  971 & 2023-12-05 & CUST971  & Female & 27 & Electronics & 4 &  50 &  200 & 23-27\\\\\n",
       "\t  972 & 2023-02-11 & CUST972  & Male   & 49 & Beauty      & 4 &  25 &  100 & 48-52\\\\\n",
       "\t  973 & 2023-03-22 & CUST973  & Male   & 60 & Clothing    & 1 &  50 &   50 & 58-62\\\\\n",
       "\t  974 & 2023-05-03 & CUST974  & Male   & 47 & Beauty      & 1 &  30 &   30 & 43-47\\\\\n",
       "\t  975 & 2023-03-30 & CUST975  & Female & 56 & Clothing    & 4 &  50 &  200 & 53-57\\\\\n",
       "\t  976 & 2023-10-10 & CUST976  & Female & 48 & Beauty      & 2 & 300 &  600 & 48-52\\\\\n",
       "\t  977 & 2023-02-08 & CUST977  & Female & 35 & Electronics & 3 &  25 &   75 & 33-37\\\\\n",
       "\t  978 & 2023-03-22 & CUST978  & Female & 53 & Clothing    & 3 &  50 &  150 & 53-57\\\\\n",
       "\t  979 & 2023-01-02 & CUST979  & Female & 19 & Beauty      & 1 &  25 &   25 & 18-22\\\\\n",
       "\t  980 & 2023-07-29 & CUST980  & Female & 31 & Electronics & 3 &  25 &   75 & 28-32\\\\\n",
       "\t  981 & 2023-08-19 & CUST981  & Female & 30 & Electronics & 2 &  30 &   60 & 28-32\\\\\n",
       "\t  982 & 2023-12-19 & CUST982  & Female & 46 & Beauty      & 3 &  30 &   90 & 43-47\\\\\n",
       "\t  983 & 2023-11-01 & CUST983  & Female & 29 & Clothing    & 1 & 300 &  300 & 28-32\\\\\n",
       "\t  984 & 2023-08-29 & CUST984  & Male   & 56 & Clothing    & 1 & 500 &  500 & 53-57\\\\\n",
       "\t  985 & 2023-05-30 & CUST985  & Female & 19 & Electronics & 2 &  25 &   50 & 18-22\\\\\n",
       "\t  986 & 2023-01-17 & CUST986  & Female & 49 & Clothing    & 2 & 500 & 1000 & 48-52\\\\\n",
       "\t  987 & 2023-04-29 & CUST987  & Female & 30 & Clothing    & 3 & 300 &  900 & 28-32\\\\\n",
       "\t  988 & 2023-05-28 & CUST988  & Female & 63 & Clothing    & 3 &  25 &   75 & 63-64\\\\\n",
       "\t  989 & 2023-12-28 & CUST989  & Female & 44 & Electronics & 1 &  25 &   25 & 43-47\\\\\n",
       "\t  990 & 2023-05-25 & CUST990  & Female & 58 & Beauty      & 2 & 500 & 1000 & 58-62\\\\\n",
       "\t  991 & 2023-12-26 & CUST991  & Female & 34 & Clothing    & 2 &  50 &  100 & 33-37\\\\\n",
       "\t  992 & 2023-08-21 & CUST992  & Female & 57 & Electronics & 2 &  30 &   60 & 53-57\\\\\n",
       "\t  993 & 2023-02-06 & CUST993  & Female & 48 & Electronics & 3 &  50 &  150 & 48-52\\\\\n",
       "\t  994 & 2023-12-18 & CUST994  & Female & 51 & Beauty      & 2 & 500 & 1000 & 48-52\\\\\n",
       "\t  995 & 2023-04-30 & CUST995  & Female & 41 & Clothing    & 1 &  30 &   30 & 38-42\\\\\n",
       "\t  996 & 2023-05-16 & CUST996  & Male   & 62 & Clothing    & 1 &  50 &   50 & 58-62\\\\\n",
       "\t  997 & 2023-11-17 & CUST997  & Male   & 52 & Beauty      & 3 &  30 &   90 & 48-52\\\\\n",
       "\t  998 & 2023-10-29 & CUST998  & Female & 23 & Beauty      & 4 &  25 &  100 & 23-27\\\\\n",
       "\t  999 & 2023-12-05 & CUST999  & Female & 36 & Electronics & 3 &  50 &  150 & 33-37\\\\\n",
       "\t 1000 & 2023-04-12 & CUST1000 & Male   & 47 & Electronics & 4 &  30 &  120 & 43-47\\\\\n",
       "\\end{tabular}\n"
      ],
      "text/markdown": [
       "\n",
       "A tibble: 1000 × 10\n",
       "\n",
       "| transaction_id &lt;dbl&gt; | date &lt;date&gt; | customer_id &lt;chr&gt; | gender &lt;chr&gt; | age &lt;dbl&gt; | product_category &lt;chr&gt; | quantity &lt;dbl&gt; | price_per_unit &lt;dbl&gt; | total_amount &lt;dbl&gt; | age_group &lt;chr&gt; |\n",
       "|---|---|---|---|---|---|---|---|---|---|\n",
       "|  1 | 2023-11-24 | CUST001 | Male   | 34 | Beauty      | 3 |  50 |  150 | 33-37 |\n",
       "|  2 | 2023-02-27 | CUST002 | Female | 26 | Clothing    | 2 | 500 | 1000 | 23-27 |\n",
       "|  3 | 2023-01-13 | CUST003 | Male   | 50 | Electronics | 1 |  30 |   30 | 48-52 |\n",
       "|  4 | 2023-05-21 | CUST004 | Male   | 37 | Clothing    | 1 | 500 |  500 | 33-37 |\n",
       "|  5 | 2023-05-06 | CUST005 | Male   | 30 | Beauty      | 2 |  50 |  100 | 28-32 |\n",
       "|  6 | 2023-04-25 | CUST006 | Female | 45 | Beauty      | 1 |  30 |   30 | 43-47 |\n",
       "|  7 | 2023-03-13 | CUST007 | Male   | 46 | Clothing    | 2 |  25 |   50 | 43-47 |\n",
       "|  8 | 2023-02-22 | CUST008 | Male   | 30 | Electronics | 4 |  25 |  100 | 28-32 |\n",
       "|  9 | 2023-12-13 | CUST009 | Male   | 63 | Electronics | 2 | 300 |  600 | 63-64 |\n",
       "| 10 | 2023-10-07 | CUST010 | Female | 52 | Clothing    | 4 |  50 |  200 | 48-52 |\n",
       "| 11 | 2023-02-14 | CUST011 | Male   | 23 | Clothing    | 2 |  50 |  100 | 23-27 |\n",
       "| 12 | 2023-10-30 | CUST012 | Male   | 35 | Beauty      | 3 |  25 |   75 | 33-37 |\n",
       "| 13 | 2023-08-05 | CUST013 | Male   | 22 | Electronics | 3 | 500 | 1500 | 18-22 |\n",
       "| 14 | 2023-01-17 | CUST014 | Male   | 64 | Clothing    | 4 |  30 |  120 | 63-64 |\n",
       "| 15 | 2023-01-16 | CUST015 | Female | 42 | Electronics | 4 | 500 | 2000 | 38-42 |\n",
       "| 16 | 2023-02-17 | CUST016 | Male   | 19 | Clothing    | 3 | 500 | 1500 | 18-22 |\n",
       "| 17 | 2023-04-22 | CUST017 | Female | 27 | Clothing    | 4 |  25 |  100 | 23-27 |\n",
       "| 18 | 2023-04-30 | CUST018 | Female | 47 | Electronics | 2 |  25 |   50 | 43-47 |\n",
       "| 19 | 2023-09-16 | CUST019 | Female | 62 | Clothing    | 2 |  25 |   50 | 58-62 |\n",
       "| 20 | 2023-11-05 | CUST020 | Male   | 22 | Clothing    | 3 | 300 |  900 | 18-22 |\n",
       "| 21 | 2023-01-14 | CUST021 | Female | 50 | Beauty      | 1 | 500 |  500 | 48-52 |\n",
       "| 22 | 2023-10-15 | CUST022 | Male   | 18 | Clothing    | 2 |  50 |  100 | 18-22 |\n",
       "| 23 | 2023-04-12 | CUST023 | Female | 35 | Clothing    | 4 |  30 |  120 | 33-37 |\n",
       "| 24 | 2023-11-29 | CUST024 | Female | 49 | Clothing    | 1 | 300 |  300 | 48-52 |\n",
       "| 25 | 2023-12-26 | CUST025 | Female | 64 | Beauty      | 1 |  50 |   50 | 63-64 |\n",
       "| 26 | 2023-10-07 | CUST026 | Female | 28 | Electronics | 2 | 500 | 1000 | 28-32 |\n",
       "| 27 | 2023-08-03 | CUST027 | Female | 38 | Beauty      | 2 |  25 |   50 | 38-42 |\n",
       "| 28 | 2023-04-23 | CUST028 | Female | 43 | Beauty      | 1 | 500 |  500 | 43-47 |\n",
       "| 29 | 2023-08-18 | CUST029 | Female | 42 | Electronics | 1 |  30 |   30 | 38-42 |\n",
       "| 30 | 2023-10-29 | CUST030 | Female | 39 | Beauty      | 3 | 300 |  900 | 38-42 |\n",
       "| ⋮ | ⋮ | ⋮ | ⋮ | ⋮ | ⋮ | ⋮ | ⋮ | ⋮ | ⋮ |\n",
       "|  971 | 2023-12-05 | CUST971  | Female | 27 | Electronics | 4 |  50 |  200 | 23-27 |\n",
       "|  972 | 2023-02-11 | CUST972  | Male   | 49 | Beauty      | 4 |  25 |  100 | 48-52 |\n",
       "|  973 | 2023-03-22 | CUST973  | Male   | 60 | Clothing    | 1 |  50 |   50 | 58-62 |\n",
       "|  974 | 2023-05-03 | CUST974  | Male   | 47 | Beauty      | 1 |  30 |   30 | 43-47 |\n",
       "|  975 | 2023-03-30 | CUST975  | Female | 56 | Clothing    | 4 |  50 |  200 | 53-57 |\n",
       "|  976 | 2023-10-10 | CUST976  | Female | 48 | Beauty      | 2 | 300 |  600 | 48-52 |\n",
       "|  977 | 2023-02-08 | CUST977  | Female | 35 | Electronics | 3 |  25 |   75 | 33-37 |\n",
       "|  978 | 2023-03-22 | CUST978  | Female | 53 | Clothing    | 3 |  50 |  150 | 53-57 |\n",
       "|  979 | 2023-01-02 | CUST979  | Female | 19 | Beauty      | 1 |  25 |   25 | 18-22 |\n",
       "|  980 | 2023-07-29 | CUST980  | Female | 31 | Electronics | 3 |  25 |   75 | 28-32 |\n",
       "|  981 | 2023-08-19 | CUST981  | Female | 30 | Electronics | 2 |  30 |   60 | 28-32 |\n",
       "|  982 | 2023-12-19 | CUST982  | Female | 46 | Beauty      | 3 |  30 |   90 | 43-47 |\n",
       "|  983 | 2023-11-01 | CUST983  | Female | 29 | Clothing    | 1 | 300 |  300 | 28-32 |\n",
       "|  984 | 2023-08-29 | CUST984  | Male   | 56 | Clothing    | 1 | 500 |  500 | 53-57 |\n",
       "|  985 | 2023-05-30 | CUST985  | Female | 19 | Electronics | 2 |  25 |   50 | 18-22 |\n",
       "|  986 | 2023-01-17 | CUST986  | Female | 49 | Clothing    | 2 | 500 | 1000 | 48-52 |\n",
       "|  987 | 2023-04-29 | CUST987  | Female | 30 | Clothing    | 3 | 300 |  900 | 28-32 |\n",
       "|  988 | 2023-05-28 | CUST988  | Female | 63 | Clothing    | 3 |  25 |   75 | 63-64 |\n",
       "|  989 | 2023-12-28 | CUST989  | Female | 44 | Electronics | 1 |  25 |   25 | 43-47 |\n",
       "|  990 | 2023-05-25 | CUST990  | Female | 58 | Beauty      | 2 | 500 | 1000 | 58-62 |\n",
       "|  991 | 2023-12-26 | CUST991  | Female | 34 | Clothing    | 2 |  50 |  100 | 33-37 |\n",
       "|  992 | 2023-08-21 | CUST992  | Female | 57 | Electronics | 2 |  30 |   60 | 53-57 |\n",
       "|  993 | 2023-02-06 | CUST993  | Female | 48 | Electronics | 3 |  50 |  150 | 48-52 |\n",
       "|  994 | 2023-12-18 | CUST994  | Female | 51 | Beauty      | 2 | 500 | 1000 | 48-52 |\n",
       "|  995 | 2023-04-30 | CUST995  | Female | 41 | Clothing    | 1 |  30 |   30 | 38-42 |\n",
       "|  996 | 2023-05-16 | CUST996  | Male   | 62 | Clothing    | 1 |  50 |   50 | 58-62 |\n",
       "|  997 | 2023-11-17 | CUST997  | Male   | 52 | Beauty      | 3 |  30 |   90 | 48-52 |\n",
       "|  998 | 2023-10-29 | CUST998  | Female | 23 | Beauty      | 4 |  25 |  100 | 23-27 |\n",
       "|  999 | 2023-12-05 | CUST999  | Female | 36 | Electronics | 3 |  50 |  150 | 33-37 |\n",
       "| 1000 | 2023-04-12 | CUST1000 | Male   | 47 | Electronics | 4 |  30 |  120 | 43-47 |\n",
       "\n"
      ],
      "text/plain": [
       "     transaction_id date       customer_id gender age product_category quantity\n",
       "1     1             2023-11-24 CUST001     Male   34  Beauty           3       \n",
       "2     2             2023-02-27 CUST002     Female 26  Clothing         2       \n",
       "3     3             2023-01-13 CUST003     Male   50  Electronics      1       \n",
       "4     4             2023-05-21 CUST004     Male   37  Clothing         1       \n",
       "5     5             2023-05-06 CUST005     Male   30  Beauty           2       \n",
       "6     6             2023-04-25 CUST006     Female 45  Beauty           1       \n",
       "7     7             2023-03-13 CUST007     Male   46  Clothing         2       \n",
       "8     8             2023-02-22 CUST008     Male   30  Electronics      4       \n",
       "9     9             2023-12-13 CUST009     Male   63  Electronics      2       \n",
       "10   10             2023-10-07 CUST010     Female 52  Clothing         4       \n",
       "11   11             2023-02-14 CUST011     Male   23  Clothing         2       \n",
       "12   12             2023-10-30 CUST012     Male   35  Beauty           3       \n",
       "13   13             2023-08-05 CUST013     Male   22  Electronics      3       \n",
       "14   14             2023-01-17 CUST014     Male   64  Clothing         4       \n",
       "15   15             2023-01-16 CUST015     Female 42  Electronics      4       \n",
       "16   16             2023-02-17 CUST016     Male   19  Clothing         3       \n",
       "17   17             2023-04-22 CUST017     Female 27  Clothing         4       \n",
       "18   18             2023-04-30 CUST018     Female 47  Electronics      2       \n",
       "19   19             2023-09-16 CUST019     Female 62  Clothing         2       \n",
       "20   20             2023-11-05 CUST020     Male   22  Clothing         3       \n",
       "21   21             2023-01-14 CUST021     Female 50  Beauty           1       \n",
       "22   22             2023-10-15 CUST022     Male   18  Clothing         2       \n",
       "23   23             2023-04-12 CUST023     Female 35  Clothing         4       \n",
       "24   24             2023-11-29 CUST024     Female 49  Clothing         1       \n",
       "25   25             2023-12-26 CUST025     Female 64  Beauty           1       \n",
       "26   26             2023-10-07 CUST026     Female 28  Electronics      2       \n",
       "27   27             2023-08-03 CUST027     Female 38  Beauty           2       \n",
       "28   28             2023-04-23 CUST028     Female 43  Beauty           1       \n",
       "29   29             2023-08-18 CUST029     Female 42  Electronics      1       \n",
       "30   30             2023-10-29 CUST030     Female 39  Beauty           3       \n",
       "⋮    ⋮              ⋮          ⋮           ⋮      ⋮   ⋮                ⋮       \n",
       "971   971           2023-12-05 CUST971     Female 27  Electronics      4       \n",
       "972   972           2023-02-11 CUST972     Male   49  Beauty           4       \n",
       "973   973           2023-03-22 CUST973     Male   60  Clothing         1       \n",
       "974   974           2023-05-03 CUST974     Male   47  Beauty           1       \n",
       "975   975           2023-03-30 CUST975     Female 56  Clothing         4       \n",
       "976   976           2023-10-10 CUST976     Female 48  Beauty           2       \n",
       "977   977           2023-02-08 CUST977     Female 35  Electronics      3       \n",
       "978   978           2023-03-22 CUST978     Female 53  Clothing         3       \n",
       "979   979           2023-01-02 CUST979     Female 19  Beauty           1       \n",
       "980   980           2023-07-29 CUST980     Female 31  Electronics      3       \n",
       "981   981           2023-08-19 CUST981     Female 30  Electronics      2       \n",
       "982   982           2023-12-19 CUST982     Female 46  Beauty           3       \n",
       "983   983           2023-11-01 CUST983     Female 29  Clothing         1       \n",
       "984   984           2023-08-29 CUST984     Male   56  Clothing         1       \n",
       "985   985           2023-05-30 CUST985     Female 19  Electronics      2       \n",
       "986   986           2023-01-17 CUST986     Female 49  Clothing         2       \n",
       "987   987           2023-04-29 CUST987     Female 30  Clothing         3       \n",
       "988   988           2023-05-28 CUST988     Female 63  Clothing         3       \n",
       "989   989           2023-12-28 CUST989     Female 44  Electronics      1       \n",
       "990   990           2023-05-25 CUST990     Female 58  Beauty           2       \n",
       "991   991           2023-12-26 CUST991     Female 34  Clothing         2       \n",
       "992   992           2023-08-21 CUST992     Female 57  Electronics      2       \n",
       "993   993           2023-02-06 CUST993     Female 48  Electronics      3       \n",
       "994   994           2023-12-18 CUST994     Female 51  Beauty           2       \n",
       "995   995           2023-04-30 CUST995     Female 41  Clothing         1       \n",
       "996   996           2023-05-16 CUST996     Male   62  Clothing         1       \n",
       "997   997           2023-11-17 CUST997     Male   52  Beauty           3       \n",
       "998   998           2023-10-29 CUST998     Female 23  Beauty           4       \n",
       "999   999           2023-12-05 CUST999     Female 36  Electronics      3       \n",
       "1000 1000           2023-04-12 CUST1000    Male   47  Electronics      4       \n",
       "     price_per_unit total_amount age_group\n",
       "1     50             150         33-37    \n",
       "2    500            1000         23-27    \n",
       "3     30              30         48-52    \n",
       "4    500             500         33-37    \n",
       "5     50             100         28-32    \n",
       "6     30              30         43-47    \n",
       "7     25              50         43-47    \n",
       "8     25             100         28-32    \n",
       "9    300             600         63-64    \n",
       "10    50             200         48-52    \n",
       "11    50             100         23-27    \n",
       "12    25              75         33-37    \n",
       "13   500            1500         18-22    \n",
       "14    30             120         63-64    \n",
       "15   500            2000         38-42    \n",
       "16   500            1500         18-22    \n",
       "17    25             100         23-27    \n",
       "18    25              50         43-47    \n",
       "19    25              50         58-62    \n",
       "20   300             900         18-22    \n",
       "21   500             500         48-52    \n",
       "22    50             100         18-22    \n",
       "23    30             120         33-37    \n",
       "24   300             300         48-52    \n",
       "25    50              50         63-64    \n",
       "26   500            1000         28-32    \n",
       "27    25              50         38-42    \n",
       "28   500             500         43-47    \n",
       "29    30              30         38-42    \n",
       "30   300             900         38-42    \n",
       "⋮    ⋮              ⋮            ⋮        \n",
       "971   50             200         23-27    \n",
       "972   25             100         48-52    \n",
       "973   50              50         58-62    \n",
       "974   30              30         43-47    \n",
       "975   50             200         53-57    \n",
       "976  300             600         48-52    \n",
       "977   25              75         33-37    \n",
       "978   50             150         53-57    \n",
       "979   25              25         18-22    \n",
       "980   25              75         28-32    \n",
       "981   30              60         28-32    \n",
       "982   30              90         43-47    \n",
       "983  300             300         28-32    \n",
       "984  500             500         53-57    \n",
       "985   25              50         18-22    \n",
       "986  500            1000         48-52    \n",
       "987  300             900         28-32    \n",
       "988   25              75         63-64    \n",
       "989   25              25         43-47    \n",
       "990  500            1000         58-62    \n",
       "991   50             100         33-37    \n",
       "992   30              60         53-57    \n",
       "993   50             150         48-52    \n",
       "994  500            1000         48-52    \n",
       "995   30              30         38-42    \n",
       "996   50              50         58-62    \n",
       "997   30              90         48-52    \n",
       "998   25             100         23-27    \n",
       "999   50             150         33-37    \n",
       "1000  30             120         43-47    "
      ]
     },
     "metadata": {},
     "output_type": "display_data"
    }
   ],
   "source": [
    "View(data)"
   ]
  },
  {
   "cell_type": "markdown",
   "id": "3263aa26",
   "metadata": {
    "papermill": {
     "duration": 0.012301,
     "end_time": "2024-08-16T11:30:49.621492",
     "exception": false,
     "start_time": "2024-08-16T11:30:49.609191",
     "status": "completed"
    },
    "tags": []
   },
   "source": [
    "#### Segment the data by age groups"
   ]
  },
  {
   "cell_type": "code",
   "execution_count": 14,
   "id": "7ba0d550",
   "metadata": {
    "execution": {
     "iopub.execute_input": "2024-08-16T11:30:49.649521Z",
     "iopub.status.busy": "2024-08-16T11:30:49.647863Z",
     "iopub.status.idle": "2024-08-16T11:30:49.668667Z",
     "shell.execute_reply": "2024-08-16T11:30:49.666749Z"
    },
    "papermill": {
     "duration": 0.037924,
     "end_time": "2024-08-16T11:30:49.671466",
     "exception": false,
     "start_time": "2024-08-16T11:30:49.633542",
     "status": "completed"
    },
    "tags": []
   },
   "outputs": [],
   "source": [
    "sales_by_age_category <- data %>%\n",
    "  group_by(age_group, product_category) %>%\n",
    "  summarize(TotalSales = sum(total_amount), \n",
    "            AvgSales = mean(total_amount), \n",
    "            .groups = 'drop')"
   ]
  },
  {
   "cell_type": "markdown",
   "id": "ca2e5869",
   "metadata": {
    "papermill": {
     "duration": 0.012175,
     "end_time": "2024-08-16T11:30:49.695639",
     "exception": false,
     "start_time": "2024-08-16T11:30:49.683464",
     "status": "completed"
    },
    "tags": []
   },
   "source": [
    "#### View the data segment by age groups"
   ]
  },
  {
   "cell_type": "code",
   "execution_count": 15,
   "id": "db9ca3d2",
   "metadata": {
    "execution": {
     "iopub.execute_input": "2024-08-16T11:30:49.723963Z",
     "iopub.status.busy": "2024-08-16T11:30:49.722217Z",
     "iopub.status.idle": "2024-08-16T11:30:49.763137Z",
     "shell.execute_reply": "2024-08-16T11:30:49.761225Z"
    },
    "papermill": {
     "duration": 0.057769,
     "end_time": "2024-08-16T11:30:49.765693",
     "exception": false,
     "start_time": "2024-08-16T11:30:49.707924",
     "status": "completed"
    },
    "tags": []
   },
   "outputs": [
    {
     "data": {
      "text/html": [
       "<table class=\"dataframe\">\n",
       "<caption>A tibble: 30 × 4</caption>\n",
       "<thead>\n",
       "\t<tr><th scope=col>age_group</th><th scope=col>product_category</th><th scope=col>TotalSales</th><th scope=col>AvgSales</th></tr>\n",
       "\t<tr><th scope=col>&lt;chr&gt;</th><th scope=col>&lt;chr&gt;</th><th scope=col>&lt;dbl&gt;</th><th scope=col>&lt;dbl&gt;</th></tr>\n",
       "</thead>\n",
       "<tbody>\n",
       "\t<tr><td>18-22</td><td>Beauty     </td><td>25380</td><td>604.2857</td></tr>\n",
       "\t<tr><td>18-22</td><td>Clothing   </td><td>15690</td><td>506.1290</td></tr>\n",
       "\t<tr><td>18-22</td><td>Electronics</td><td>19945</td><td>539.0541</td></tr>\n",
       "\t<tr><td>23-27</td><td>Beauty     </td><td>12370</td><td>374.8485</td></tr>\n",
       "\t<tr><td>23-27</td><td>Clothing   </td><td>23760</td><td>609.2308</td></tr>\n",
       "\t<tr><td>23-27</td><td>Electronics</td><td>10770</td><td>336.5625</td></tr>\n",
       "\t<tr><td>28-32</td><td>Beauty     </td><td>10040</td><td>323.8710</td></tr>\n",
       "\t<tr><td>28-32</td><td>Clothing   </td><td>17860</td><td>510.2857</td></tr>\n",
       "\t<tr><td>28-32</td><td>Electronics</td><td>12900</td><td>379.4118</td></tr>\n",
       "\t<tr><td>33-37</td><td>Beauty     </td><td>19675</td><td>728.7037</td></tr>\n",
       "\t<tr><td>33-37</td><td>Clothing   </td><td>17855</td><td>525.1471</td></tr>\n",
       "\t<tr><td>33-37</td><td>Electronics</td><td>17540</td><td>584.6667</td></tr>\n",
       "\t<tr><td>38-42</td><td>Beauty     </td><td>16780</td><td>541.2903</td></tr>\n",
       "\t<tr><td>38-42</td><td>Clothing   </td><td> 8145</td><td>220.1351</td></tr>\n",
       "\t<tr><td>38-42</td><td>Electronics</td><td>14335</td><td>358.3750</td></tr>\n",
       "\t<tr><td>43-47</td><td>Beauty     </td><td>21190</td><td>529.7500</td></tr>\n",
       "\t<tr><td>43-47</td><td>Clothing   </td><td>18120</td><td>453.0000</td></tr>\n",
       "\t<tr><td>43-47</td><td>Electronics</td><td>18140</td><td>533.5294</td></tr>\n",
       "\t<tr><td>48-52</td><td>Beauty     </td><td>13020</td><td>448.9655</td></tr>\n",
       "\t<tr><td>48-52</td><td>Clothing   </td><td>14535</td><td>382.5000</td></tr>\n",
       "\t<tr><td>48-52</td><td>Electronics</td><td>17745</td><td>394.3333</td></tr>\n",
       "\t<tr><td>53-57</td><td>Beauty     </td><td>12950</td><td>404.6875</td></tr>\n",
       "\t<tr><td>53-57</td><td>Clothing   </td><td>18090</td><td>430.7143</td></tr>\n",
       "\t<tr><td>53-57</td><td>Electronics</td><td>17485</td><td>426.4634</td></tr>\n",
       "\t<tr><td>58-62</td><td>Beauty     </td><td> 9625</td><td>331.8966</td></tr>\n",
       "\t<tr><td>58-62</td><td>Clothing   </td><td>13500</td><td>364.8649</td></tr>\n",
       "\t<tr><td>58-62</td><td>Electronics</td><td>20180</td><td>630.6250</td></tr>\n",
       "\t<tr><td>63-64</td><td>Beauty     </td><td> 2485</td><td>191.1538</td></tr>\n",
       "\t<tr><td>63-64</td><td>Clothing   </td><td> 8025</td><td>445.8333</td></tr>\n",
       "\t<tr><td>63-64</td><td>Electronics</td><td> 7865</td><td>462.6471</td></tr>\n",
       "</tbody>\n",
       "</table>\n"
      ],
      "text/latex": [
       "A tibble: 30 × 4\n",
       "\\begin{tabular}{llll}\n",
       " age\\_group & product\\_category & TotalSales & AvgSales\\\\\n",
       " <chr> & <chr> & <dbl> & <dbl>\\\\\n",
       "\\hline\n",
       "\t 18-22 & Beauty      & 25380 & 604.2857\\\\\n",
       "\t 18-22 & Clothing    & 15690 & 506.1290\\\\\n",
       "\t 18-22 & Electronics & 19945 & 539.0541\\\\\n",
       "\t 23-27 & Beauty      & 12370 & 374.8485\\\\\n",
       "\t 23-27 & Clothing    & 23760 & 609.2308\\\\\n",
       "\t 23-27 & Electronics & 10770 & 336.5625\\\\\n",
       "\t 28-32 & Beauty      & 10040 & 323.8710\\\\\n",
       "\t 28-32 & Clothing    & 17860 & 510.2857\\\\\n",
       "\t 28-32 & Electronics & 12900 & 379.4118\\\\\n",
       "\t 33-37 & Beauty      & 19675 & 728.7037\\\\\n",
       "\t 33-37 & Clothing    & 17855 & 525.1471\\\\\n",
       "\t 33-37 & Electronics & 17540 & 584.6667\\\\\n",
       "\t 38-42 & Beauty      & 16780 & 541.2903\\\\\n",
       "\t 38-42 & Clothing    &  8145 & 220.1351\\\\\n",
       "\t 38-42 & Electronics & 14335 & 358.3750\\\\\n",
       "\t 43-47 & Beauty      & 21190 & 529.7500\\\\\n",
       "\t 43-47 & Clothing    & 18120 & 453.0000\\\\\n",
       "\t 43-47 & Electronics & 18140 & 533.5294\\\\\n",
       "\t 48-52 & Beauty      & 13020 & 448.9655\\\\\n",
       "\t 48-52 & Clothing    & 14535 & 382.5000\\\\\n",
       "\t 48-52 & Electronics & 17745 & 394.3333\\\\\n",
       "\t 53-57 & Beauty      & 12950 & 404.6875\\\\\n",
       "\t 53-57 & Clothing    & 18090 & 430.7143\\\\\n",
       "\t 53-57 & Electronics & 17485 & 426.4634\\\\\n",
       "\t 58-62 & Beauty      &  9625 & 331.8966\\\\\n",
       "\t 58-62 & Clothing    & 13500 & 364.8649\\\\\n",
       "\t 58-62 & Electronics & 20180 & 630.6250\\\\\n",
       "\t 63-64 & Beauty      &  2485 & 191.1538\\\\\n",
       "\t 63-64 & Clothing    &  8025 & 445.8333\\\\\n",
       "\t 63-64 & Electronics &  7865 & 462.6471\\\\\n",
       "\\end{tabular}\n"
      ],
      "text/markdown": [
       "\n",
       "A tibble: 30 × 4\n",
       "\n",
       "| age_group &lt;chr&gt; | product_category &lt;chr&gt; | TotalSales &lt;dbl&gt; | AvgSales &lt;dbl&gt; |\n",
       "|---|---|---|---|\n",
       "| 18-22 | Beauty      | 25380 | 604.2857 |\n",
       "| 18-22 | Clothing    | 15690 | 506.1290 |\n",
       "| 18-22 | Electronics | 19945 | 539.0541 |\n",
       "| 23-27 | Beauty      | 12370 | 374.8485 |\n",
       "| 23-27 | Clothing    | 23760 | 609.2308 |\n",
       "| 23-27 | Electronics | 10770 | 336.5625 |\n",
       "| 28-32 | Beauty      | 10040 | 323.8710 |\n",
       "| 28-32 | Clothing    | 17860 | 510.2857 |\n",
       "| 28-32 | Electronics | 12900 | 379.4118 |\n",
       "| 33-37 | Beauty      | 19675 | 728.7037 |\n",
       "| 33-37 | Clothing    | 17855 | 525.1471 |\n",
       "| 33-37 | Electronics | 17540 | 584.6667 |\n",
       "| 38-42 | Beauty      | 16780 | 541.2903 |\n",
       "| 38-42 | Clothing    |  8145 | 220.1351 |\n",
       "| 38-42 | Electronics | 14335 | 358.3750 |\n",
       "| 43-47 | Beauty      | 21190 | 529.7500 |\n",
       "| 43-47 | Clothing    | 18120 | 453.0000 |\n",
       "| 43-47 | Electronics | 18140 | 533.5294 |\n",
       "| 48-52 | Beauty      | 13020 | 448.9655 |\n",
       "| 48-52 | Clothing    | 14535 | 382.5000 |\n",
       "| 48-52 | Electronics | 17745 | 394.3333 |\n",
       "| 53-57 | Beauty      | 12950 | 404.6875 |\n",
       "| 53-57 | Clothing    | 18090 | 430.7143 |\n",
       "| 53-57 | Electronics | 17485 | 426.4634 |\n",
       "| 58-62 | Beauty      |  9625 | 331.8966 |\n",
       "| 58-62 | Clothing    | 13500 | 364.8649 |\n",
       "| 58-62 | Electronics | 20180 | 630.6250 |\n",
       "| 63-64 | Beauty      |  2485 | 191.1538 |\n",
       "| 63-64 | Clothing    |  8025 | 445.8333 |\n",
       "| 63-64 | Electronics |  7865 | 462.6471 |\n",
       "\n"
      ],
      "text/plain": [
       "   age_group product_category TotalSales AvgSales\n",
       "1  18-22     Beauty           25380      604.2857\n",
       "2  18-22     Clothing         15690      506.1290\n",
       "3  18-22     Electronics      19945      539.0541\n",
       "4  23-27     Beauty           12370      374.8485\n",
       "5  23-27     Clothing         23760      609.2308\n",
       "6  23-27     Electronics      10770      336.5625\n",
       "7  28-32     Beauty           10040      323.8710\n",
       "8  28-32     Clothing         17860      510.2857\n",
       "9  28-32     Electronics      12900      379.4118\n",
       "10 33-37     Beauty           19675      728.7037\n",
       "11 33-37     Clothing         17855      525.1471\n",
       "12 33-37     Electronics      17540      584.6667\n",
       "13 38-42     Beauty           16780      541.2903\n",
       "14 38-42     Clothing          8145      220.1351\n",
       "15 38-42     Electronics      14335      358.3750\n",
       "16 43-47     Beauty           21190      529.7500\n",
       "17 43-47     Clothing         18120      453.0000\n",
       "18 43-47     Electronics      18140      533.5294\n",
       "19 48-52     Beauty           13020      448.9655\n",
       "20 48-52     Clothing         14535      382.5000\n",
       "21 48-52     Electronics      17745      394.3333\n",
       "22 53-57     Beauty           12950      404.6875\n",
       "23 53-57     Clothing         18090      430.7143\n",
       "24 53-57     Electronics      17485      426.4634\n",
       "25 58-62     Beauty            9625      331.8966\n",
       "26 58-62     Clothing         13500      364.8649\n",
       "27 58-62     Electronics      20180      630.6250\n",
       "28 63-64     Beauty            2485      191.1538\n",
       "29 63-64     Clothing          8025      445.8333\n",
       "30 63-64     Electronics       7865      462.6471"
      ]
     },
     "metadata": {},
     "output_type": "display_data"
    }
   ],
   "source": [
    "View(sales_by_age_category)"
   ]
  },
  {
   "cell_type": "markdown",
   "id": "3d1f1799",
   "metadata": {
    "papermill": {
     "duration": 0.012359,
     "end_time": "2024-08-16T11:30:49.790427",
     "exception": false,
     "start_time": "2024-08-16T11:30:49.778068",
     "status": "completed"
    },
    "tags": []
   },
   "source": [
    "#### Adding contribute percentage based on sales for each group"
   ]
  },
  {
   "cell_type": "code",
   "execution_count": 16,
   "id": "07f5b347",
   "metadata": {
    "execution": {
     "iopub.execute_input": "2024-08-16T11:30:49.819282Z",
     "iopub.status.busy": "2024-08-16T11:30:49.817551Z",
     "iopub.status.idle": "2024-08-16T11:30:49.837554Z",
     "shell.execute_reply": "2024-08-16T11:30:49.835649Z"
    },
    "papermill": {
     "duration": 0.037199,
     "end_time": "2024-08-16T11:30:49.840316",
     "exception": false,
     "start_time": "2024-08-16T11:30:49.803117",
     "status": "completed"
    },
    "tags": []
   },
   "outputs": [],
   "source": [
    "sales_by_age_category <- sales_by_age_category %>%\n",
    "  group_by(age_group) %>%\n",
    "  mutate(PercentContribution = TotalSales / sum(TotalSales) * 100)"
   ]
  },
  {
   "cell_type": "markdown",
   "id": "06ee8e73",
   "metadata": {
    "papermill": {
     "duration": 0.046493,
     "end_time": "2024-08-16T11:30:49.899149",
     "exception": false,
     "start_time": "2024-08-16T11:30:49.852656",
     "status": "completed"
    },
    "tags": []
   },
   "source": [
    "#### View the data"
   ]
  },
  {
   "cell_type": "code",
   "execution_count": 17,
   "id": "27015810",
   "metadata": {
    "execution": {
     "iopub.execute_input": "2024-08-16T11:30:49.927380Z",
     "iopub.status.busy": "2024-08-16T11:30:49.925765Z",
     "iopub.status.idle": "2024-08-16T11:30:49.975213Z",
     "shell.execute_reply": "2024-08-16T11:30:49.973298Z"
    },
    "papermill": {
     "duration": 0.066279,
     "end_time": "2024-08-16T11:30:49.977707",
     "exception": false,
     "start_time": "2024-08-16T11:30:49.911428",
     "status": "completed"
    },
    "tags": []
   },
   "outputs": [
    {
     "data": {
      "text/html": [
       "<table class=\"dataframe\">\n",
       "<caption>A grouped_df: 30 × 5</caption>\n",
       "<thead>\n",
       "\t<tr><th scope=col>age_group</th><th scope=col>product_category</th><th scope=col>TotalSales</th><th scope=col>AvgSales</th><th scope=col>PercentContribution</th></tr>\n",
       "\t<tr><th scope=col>&lt;chr&gt;</th><th scope=col>&lt;chr&gt;</th><th scope=col>&lt;dbl&gt;</th><th scope=col>&lt;dbl&gt;</th><th scope=col>&lt;dbl&gt;</th></tr>\n",
       "</thead>\n",
       "<tbody>\n",
       "\t<tr><td>18-22</td><td>Beauty     </td><td>25380</td><td>604.2857</td><td>41.59633</td></tr>\n",
       "\t<tr><td>18-22</td><td>Clothing   </td><td>15690</td><td>506.1290</td><td>25.71499</td></tr>\n",
       "\t<tr><td>18-22</td><td>Electronics</td><td>19945</td><td>539.0541</td><td>32.68868</td></tr>\n",
       "\t<tr><td>23-27</td><td>Beauty     </td><td>12370</td><td>374.8485</td><td>26.37527</td></tr>\n",
       "\t<tr><td>23-27</td><td>Clothing   </td><td>23760</td><td>609.2308</td><td>50.66098</td></tr>\n",
       "\t<tr><td>23-27</td><td>Electronics</td><td>10770</td><td>336.5625</td><td>22.96375</td></tr>\n",
       "\t<tr><td>28-32</td><td>Beauty     </td><td>10040</td><td>323.8710</td><td>24.60784</td></tr>\n",
       "\t<tr><td>28-32</td><td>Clothing   </td><td>17860</td><td>510.2857</td><td>43.77451</td></tr>\n",
       "\t<tr><td>28-32</td><td>Electronics</td><td>12900</td><td>379.4118</td><td>31.61765</td></tr>\n",
       "\t<tr><td>33-37</td><td>Beauty     </td><td>19675</td><td>728.7037</td><td>35.72726</td></tr>\n",
       "\t<tr><td>33-37</td><td>Clothing   </td><td>17855</td><td>525.1471</td><td>32.42237</td></tr>\n",
       "\t<tr><td>33-37</td><td>Electronics</td><td>17540</td><td>584.6667</td><td>31.85037</td></tr>\n",
       "\t<tr><td>38-42</td><td>Beauty     </td><td>16780</td><td>541.2903</td><td>42.74070</td></tr>\n",
       "\t<tr><td>38-42</td><td>Clothing   </td><td> 8145</td><td>220.1351</td><td>20.74631</td></tr>\n",
       "\t<tr><td>38-42</td><td>Electronics</td><td>14335</td><td>358.3750</td><td>36.51299</td></tr>\n",
       "\t<tr><td>43-47</td><td>Beauty     </td><td>21190</td><td>529.7500</td><td>36.88425</td></tr>\n",
       "\t<tr><td>43-47</td><td>Clothing   </td><td>18120</td><td>453.0000</td><td>31.54047</td></tr>\n",
       "\t<tr><td>43-47</td><td>Electronics</td><td>18140</td><td>533.5294</td><td>31.57528</td></tr>\n",
       "\t<tr><td>48-52</td><td>Beauty     </td><td>13020</td><td>448.9655</td><td>28.74172</td></tr>\n",
       "\t<tr><td>48-52</td><td>Clothing   </td><td>14535</td><td>382.5000</td><td>32.08609</td></tr>\n",
       "\t<tr><td>48-52</td><td>Electronics</td><td>17745</td><td>394.3333</td><td>39.17219</td></tr>\n",
       "\t<tr><td>53-57</td><td>Beauty     </td><td>12950</td><td>404.6875</td><td>26.68727</td></tr>\n",
       "\t<tr><td>53-57</td><td>Clothing   </td><td>18090</td><td>430.7143</td><td>37.27975</td></tr>\n",
       "\t<tr><td>53-57</td><td>Electronics</td><td>17485</td><td>426.4634</td><td>36.03297</td></tr>\n",
       "\t<tr><td>58-62</td><td>Beauty     </td><td> 9625</td><td>331.8966</td><td>22.22607</td></tr>\n",
       "\t<tr><td>58-62</td><td>Clothing   </td><td>13500</td><td>364.8649</td><td>31.17423</td></tr>\n",
       "\t<tr><td>58-62</td><td>Electronics</td><td>20180</td><td>630.6250</td><td>46.59970</td></tr>\n",
       "\t<tr><td>63-64</td><td>Beauty     </td><td> 2485</td><td>191.1538</td><td>13.52381</td></tr>\n",
       "\t<tr><td>63-64</td><td>Clothing   </td><td> 8025</td><td>445.8333</td><td>43.67347</td></tr>\n",
       "\t<tr><td>63-64</td><td>Electronics</td><td> 7865</td><td>462.6471</td><td>42.80272</td></tr>\n",
       "</tbody>\n",
       "</table>\n"
      ],
      "text/latex": [
       "A grouped\\_df: 30 × 5\n",
       "\\begin{tabular}{lllll}\n",
       " age\\_group & product\\_category & TotalSales & AvgSales & PercentContribution\\\\\n",
       " <chr> & <chr> & <dbl> & <dbl> & <dbl>\\\\\n",
       "\\hline\n",
       "\t 18-22 & Beauty      & 25380 & 604.2857 & 41.59633\\\\\n",
       "\t 18-22 & Clothing    & 15690 & 506.1290 & 25.71499\\\\\n",
       "\t 18-22 & Electronics & 19945 & 539.0541 & 32.68868\\\\\n",
       "\t 23-27 & Beauty      & 12370 & 374.8485 & 26.37527\\\\\n",
       "\t 23-27 & Clothing    & 23760 & 609.2308 & 50.66098\\\\\n",
       "\t 23-27 & Electronics & 10770 & 336.5625 & 22.96375\\\\\n",
       "\t 28-32 & Beauty      & 10040 & 323.8710 & 24.60784\\\\\n",
       "\t 28-32 & Clothing    & 17860 & 510.2857 & 43.77451\\\\\n",
       "\t 28-32 & Electronics & 12900 & 379.4118 & 31.61765\\\\\n",
       "\t 33-37 & Beauty      & 19675 & 728.7037 & 35.72726\\\\\n",
       "\t 33-37 & Clothing    & 17855 & 525.1471 & 32.42237\\\\\n",
       "\t 33-37 & Electronics & 17540 & 584.6667 & 31.85037\\\\\n",
       "\t 38-42 & Beauty      & 16780 & 541.2903 & 42.74070\\\\\n",
       "\t 38-42 & Clothing    &  8145 & 220.1351 & 20.74631\\\\\n",
       "\t 38-42 & Electronics & 14335 & 358.3750 & 36.51299\\\\\n",
       "\t 43-47 & Beauty      & 21190 & 529.7500 & 36.88425\\\\\n",
       "\t 43-47 & Clothing    & 18120 & 453.0000 & 31.54047\\\\\n",
       "\t 43-47 & Electronics & 18140 & 533.5294 & 31.57528\\\\\n",
       "\t 48-52 & Beauty      & 13020 & 448.9655 & 28.74172\\\\\n",
       "\t 48-52 & Clothing    & 14535 & 382.5000 & 32.08609\\\\\n",
       "\t 48-52 & Electronics & 17745 & 394.3333 & 39.17219\\\\\n",
       "\t 53-57 & Beauty      & 12950 & 404.6875 & 26.68727\\\\\n",
       "\t 53-57 & Clothing    & 18090 & 430.7143 & 37.27975\\\\\n",
       "\t 53-57 & Electronics & 17485 & 426.4634 & 36.03297\\\\\n",
       "\t 58-62 & Beauty      &  9625 & 331.8966 & 22.22607\\\\\n",
       "\t 58-62 & Clothing    & 13500 & 364.8649 & 31.17423\\\\\n",
       "\t 58-62 & Electronics & 20180 & 630.6250 & 46.59970\\\\\n",
       "\t 63-64 & Beauty      &  2485 & 191.1538 & 13.52381\\\\\n",
       "\t 63-64 & Clothing    &  8025 & 445.8333 & 43.67347\\\\\n",
       "\t 63-64 & Electronics &  7865 & 462.6471 & 42.80272\\\\\n",
       "\\end{tabular}\n"
      ],
      "text/markdown": [
       "\n",
       "A grouped_df: 30 × 5\n",
       "\n",
       "| age_group &lt;chr&gt; | product_category &lt;chr&gt; | TotalSales &lt;dbl&gt; | AvgSales &lt;dbl&gt; | PercentContribution &lt;dbl&gt; |\n",
       "|---|---|---|---|---|\n",
       "| 18-22 | Beauty      | 25380 | 604.2857 | 41.59633 |\n",
       "| 18-22 | Clothing    | 15690 | 506.1290 | 25.71499 |\n",
       "| 18-22 | Electronics | 19945 | 539.0541 | 32.68868 |\n",
       "| 23-27 | Beauty      | 12370 | 374.8485 | 26.37527 |\n",
       "| 23-27 | Clothing    | 23760 | 609.2308 | 50.66098 |\n",
       "| 23-27 | Electronics | 10770 | 336.5625 | 22.96375 |\n",
       "| 28-32 | Beauty      | 10040 | 323.8710 | 24.60784 |\n",
       "| 28-32 | Clothing    | 17860 | 510.2857 | 43.77451 |\n",
       "| 28-32 | Electronics | 12900 | 379.4118 | 31.61765 |\n",
       "| 33-37 | Beauty      | 19675 | 728.7037 | 35.72726 |\n",
       "| 33-37 | Clothing    | 17855 | 525.1471 | 32.42237 |\n",
       "| 33-37 | Electronics | 17540 | 584.6667 | 31.85037 |\n",
       "| 38-42 | Beauty      | 16780 | 541.2903 | 42.74070 |\n",
       "| 38-42 | Clothing    |  8145 | 220.1351 | 20.74631 |\n",
       "| 38-42 | Electronics | 14335 | 358.3750 | 36.51299 |\n",
       "| 43-47 | Beauty      | 21190 | 529.7500 | 36.88425 |\n",
       "| 43-47 | Clothing    | 18120 | 453.0000 | 31.54047 |\n",
       "| 43-47 | Electronics | 18140 | 533.5294 | 31.57528 |\n",
       "| 48-52 | Beauty      | 13020 | 448.9655 | 28.74172 |\n",
       "| 48-52 | Clothing    | 14535 | 382.5000 | 32.08609 |\n",
       "| 48-52 | Electronics | 17745 | 394.3333 | 39.17219 |\n",
       "| 53-57 | Beauty      | 12950 | 404.6875 | 26.68727 |\n",
       "| 53-57 | Clothing    | 18090 | 430.7143 | 37.27975 |\n",
       "| 53-57 | Electronics | 17485 | 426.4634 | 36.03297 |\n",
       "| 58-62 | Beauty      |  9625 | 331.8966 | 22.22607 |\n",
       "| 58-62 | Clothing    | 13500 | 364.8649 | 31.17423 |\n",
       "| 58-62 | Electronics | 20180 | 630.6250 | 46.59970 |\n",
       "| 63-64 | Beauty      |  2485 | 191.1538 | 13.52381 |\n",
       "| 63-64 | Clothing    |  8025 | 445.8333 | 43.67347 |\n",
       "| 63-64 | Electronics |  7865 | 462.6471 | 42.80272 |\n",
       "\n"
      ],
      "text/plain": [
       "   age_group product_category TotalSales AvgSales PercentContribution\n",
       "1  18-22     Beauty           25380      604.2857 41.59633           \n",
       "2  18-22     Clothing         15690      506.1290 25.71499           \n",
       "3  18-22     Electronics      19945      539.0541 32.68868           \n",
       "4  23-27     Beauty           12370      374.8485 26.37527           \n",
       "5  23-27     Clothing         23760      609.2308 50.66098           \n",
       "6  23-27     Electronics      10770      336.5625 22.96375           \n",
       "7  28-32     Beauty           10040      323.8710 24.60784           \n",
       "8  28-32     Clothing         17860      510.2857 43.77451           \n",
       "9  28-32     Electronics      12900      379.4118 31.61765           \n",
       "10 33-37     Beauty           19675      728.7037 35.72726           \n",
       "11 33-37     Clothing         17855      525.1471 32.42237           \n",
       "12 33-37     Electronics      17540      584.6667 31.85037           \n",
       "13 38-42     Beauty           16780      541.2903 42.74070           \n",
       "14 38-42     Clothing          8145      220.1351 20.74631           \n",
       "15 38-42     Electronics      14335      358.3750 36.51299           \n",
       "16 43-47     Beauty           21190      529.7500 36.88425           \n",
       "17 43-47     Clothing         18120      453.0000 31.54047           \n",
       "18 43-47     Electronics      18140      533.5294 31.57528           \n",
       "19 48-52     Beauty           13020      448.9655 28.74172           \n",
       "20 48-52     Clothing         14535      382.5000 32.08609           \n",
       "21 48-52     Electronics      17745      394.3333 39.17219           \n",
       "22 53-57     Beauty           12950      404.6875 26.68727           \n",
       "23 53-57     Clothing         18090      430.7143 37.27975           \n",
       "24 53-57     Electronics      17485      426.4634 36.03297           \n",
       "25 58-62     Beauty            9625      331.8966 22.22607           \n",
       "26 58-62     Clothing         13500      364.8649 31.17423           \n",
       "27 58-62     Electronics      20180      630.6250 46.59970           \n",
       "28 63-64     Beauty            2485      191.1538 13.52381           \n",
       "29 63-64     Clothing          8025      445.8333 43.67347           \n",
       "30 63-64     Electronics       7865      462.6471 42.80272           "
      ]
     },
     "metadata": {},
     "output_type": "display_data"
    }
   ],
   "source": [
    "View(sales_by_age_category)"
   ]
  },
  {
   "cell_type": "markdown",
   "id": "6213894e",
   "metadata": {
    "papermill": {
     "duration": 0.012753,
     "end_time": "2024-08-16T11:30:50.003135",
     "exception": false,
     "start_time": "2024-08-16T11:30:49.990382",
     "status": "completed"
    },
    "tags": []
   },
   "source": [
    "#### Choosing category with highest sales for each age group"
   ]
  },
  {
   "cell_type": "code",
   "execution_count": 18,
   "id": "f365e38d",
   "metadata": {
    "execution": {
     "iopub.execute_input": "2024-08-16T11:30:50.032469Z",
     "iopub.status.busy": "2024-08-16T11:30:50.030817Z",
     "iopub.status.idle": "2024-08-16T11:30:50.055905Z",
     "shell.execute_reply": "2024-08-16T11:30:50.053966Z"
    },
    "papermill": {
     "duration": 0.042878,
     "end_time": "2024-08-16T11:30:50.058623",
     "exception": false,
     "start_time": "2024-08-16T11:30:50.015745",
     "status": "completed"
    },
    "tags": []
   },
   "outputs": [],
   "source": [
    "top_sales_by_age_category <- sales_by_age_category %>%\n",
    "  group_by(age_group) %>%\n",
    "  slice_max(order_by = TotalSales, n = 1) %>%\n",
    "  ungroup()"
   ]
  },
  {
   "cell_type": "markdown",
   "id": "1587d903",
   "metadata": {
    "papermill": {
     "duration": 0.015121,
     "end_time": "2024-08-16T11:30:50.086569",
     "exception": false,
     "start_time": "2024-08-16T11:30:50.071448",
     "status": "completed"
    },
    "tags": []
   },
   "source": [
    "#### View the highest sales for each age group"
   ]
  },
  {
   "cell_type": "code",
   "execution_count": 19,
   "id": "d2804355",
   "metadata": {
    "execution": {
     "iopub.execute_input": "2024-08-16T11:30:50.116169Z",
     "iopub.status.busy": "2024-08-16T11:30:50.114474Z",
     "iopub.status.idle": "2024-08-16T11:30:50.146206Z",
     "shell.execute_reply": "2024-08-16T11:30:50.144376Z"
    },
    "papermill": {
     "duration": 0.049427,
     "end_time": "2024-08-16T11:30:50.148788",
     "exception": false,
     "start_time": "2024-08-16T11:30:50.099361",
     "status": "completed"
    },
    "tags": []
   },
   "outputs": [
    {
     "data": {
      "text/html": [
       "<table class=\"dataframe\">\n",
       "<caption>A tibble: 10 × 5</caption>\n",
       "<thead>\n",
       "\t<tr><th scope=col>age_group</th><th scope=col>product_category</th><th scope=col>TotalSales</th><th scope=col>AvgSales</th><th scope=col>PercentContribution</th></tr>\n",
       "\t<tr><th scope=col>&lt;chr&gt;</th><th scope=col>&lt;chr&gt;</th><th scope=col>&lt;dbl&gt;</th><th scope=col>&lt;dbl&gt;</th><th scope=col>&lt;dbl&gt;</th></tr>\n",
       "</thead>\n",
       "<tbody>\n",
       "\t<tr><td>18-22</td><td>Beauty     </td><td>25380</td><td>604.2857</td><td>41.59633</td></tr>\n",
       "\t<tr><td>23-27</td><td>Clothing   </td><td>23760</td><td>609.2308</td><td>50.66098</td></tr>\n",
       "\t<tr><td>28-32</td><td>Clothing   </td><td>17860</td><td>510.2857</td><td>43.77451</td></tr>\n",
       "\t<tr><td>33-37</td><td>Beauty     </td><td>19675</td><td>728.7037</td><td>35.72726</td></tr>\n",
       "\t<tr><td>38-42</td><td>Beauty     </td><td>16780</td><td>541.2903</td><td>42.74070</td></tr>\n",
       "\t<tr><td>43-47</td><td>Beauty     </td><td>21190</td><td>529.7500</td><td>36.88425</td></tr>\n",
       "\t<tr><td>48-52</td><td>Electronics</td><td>17745</td><td>394.3333</td><td>39.17219</td></tr>\n",
       "\t<tr><td>53-57</td><td>Clothing   </td><td>18090</td><td>430.7143</td><td>37.27975</td></tr>\n",
       "\t<tr><td>58-62</td><td>Electronics</td><td>20180</td><td>630.6250</td><td>46.59970</td></tr>\n",
       "\t<tr><td>63-64</td><td>Clothing   </td><td> 8025</td><td>445.8333</td><td>43.67347</td></tr>\n",
       "</tbody>\n",
       "</table>\n"
      ],
      "text/latex": [
       "A tibble: 10 × 5\n",
       "\\begin{tabular}{lllll}\n",
       " age\\_group & product\\_category & TotalSales & AvgSales & PercentContribution\\\\\n",
       " <chr> & <chr> & <dbl> & <dbl> & <dbl>\\\\\n",
       "\\hline\n",
       "\t 18-22 & Beauty      & 25380 & 604.2857 & 41.59633\\\\\n",
       "\t 23-27 & Clothing    & 23760 & 609.2308 & 50.66098\\\\\n",
       "\t 28-32 & Clothing    & 17860 & 510.2857 & 43.77451\\\\\n",
       "\t 33-37 & Beauty      & 19675 & 728.7037 & 35.72726\\\\\n",
       "\t 38-42 & Beauty      & 16780 & 541.2903 & 42.74070\\\\\n",
       "\t 43-47 & Beauty      & 21190 & 529.7500 & 36.88425\\\\\n",
       "\t 48-52 & Electronics & 17745 & 394.3333 & 39.17219\\\\\n",
       "\t 53-57 & Clothing    & 18090 & 430.7143 & 37.27975\\\\\n",
       "\t 58-62 & Electronics & 20180 & 630.6250 & 46.59970\\\\\n",
       "\t 63-64 & Clothing    &  8025 & 445.8333 & 43.67347\\\\\n",
       "\\end{tabular}\n"
      ],
      "text/markdown": [
       "\n",
       "A tibble: 10 × 5\n",
       "\n",
       "| age_group &lt;chr&gt; | product_category &lt;chr&gt; | TotalSales &lt;dbl&gt; | AvgSales &lt;dbl&gt; | PercentContribution &lt;dbl&gt; |\n",
       "|---|---|---|---|---|\n",
       "| 18-22 | Beauty      | 25380 | 604.2857 | 41.59633 |\n",
       "| 23-27 | Clothing    | 23760 | 609.2308 | 50.66098 |\n",
       "| 28-32 | Clothing    | 17860 | 510.2857 | 43.77451 |\n",
       "| 33-37 | Beauty      | 19675 | 728.7037 | 35.72726 |\n",
       "| 38-42 | Beauty      | 16780 | 541.2903 | 42.74070 |\n",
       "| 43-47 | Beauty      | 21190 | 529.7500 | 36.88425 |\n",
       "| 48-52 | Electronics | 17745 | 394.3333 | 39.17219 |\n",
       "| 53-57 | Clothing    | 18090 | 430.7143 | 37.27975 |\n",
       "| 58-62 | Electronics | 20180 | 630.6250 | 46.59970 |\n",
       "| 63-64 | Clothing    |  8025 | 445.8333 | 43.67347 |\n",
       "\n"
      ],
      "text/plain": [
       "   age_group product_category TotalSales AvgSales PercentContribution\n",
       "1  18-22     Beauty           25380      604.2857 41.59633           \n",
       "2  23-27     Clothing         23760      609.2308 50.66098           \n",
       "3  28-32     Clothing         17860      510.2857 43.77451           \n",
       "4  33-37     Beauty           19675      728.7037 35.72726           \n",
       "5  38-42     Beauty           16780      541.2903 42.74070           \n",
       "6  43-47     Beauty           21190      529.7500 36.88425           \n",
       "7  48-52     Electronics      17745      394.3333 39.17219           \n",
       "8  53-57     Clothing         18090      430.7143 37.27975           \n",
       "9  58-62     Electronics      20180      630.6250 46.59970           \n",
       "10 63-64     Clothing          8025      445.8333 43.67347           "
      ]
     },
     "metadata": {},
     "output_type": "display_data"
    }
   ],
   "source": [
    "View(top_sales_by_age_category)"
   ]
  },
  {
   "cell_type": "markdown",
   "id": "5fecb33c",
   "metadata": {
    "papermill": {
     "duration": 0.013146,
     "end_time": "2024-08-16T11:30:50.175357",
     "exception": false,
     "start_time": "2024-08-16T11:30:50.162211",
     "status": "completed"
    },
    "tags": []
   },
   "source": [
    "#### Answer the second question : How do product categories perfrom accross different age groups?\n",
    "\n",
    "1. **Age Group 18-22**:\n",
    "   - **Top Product Category**: Beauty\n",
    "   - **Total Sales**: $25,380\n",
    "   \n",
    "   - **Average Sales per Item** : $604.29\n",
    "   - **Percent Contribution**: 41.60%\n",
    "   - **Insight**: Beauty products are the leading category in this age group, contributing significantly to total sales. This suggests a strong preference for beauty and personal care products among younger consumers.\n",
    "\n",
    "2. **Age Group 23-27**:\n",
    "   - **Top Product Category**: Clothing\n",
    "   - **Total Sales**: $23,760\n",
    "   \n",
    "   - **Average Sales per Item**: $609.23\n",
    "   - **Percent Contribution**: 50.66%\n",
    "   - **Insight**: Clothing is the dominant category for this age group, reflecting a high level of spending on apparel. This indicates a significant interest in fashion and personal attire among individuals in their mid-twenties.\n",
    "\n",
    "3. **Age Group 28-32**:\n",
    "   - **Top Product Category**: Clothing\n",
    "   - **Total Sales**: $17,860\n",
    "   \n",
    "   - **Average Sales per Item**: $510.29\n",
    "   - **Percent Contribution**: 43.77%\n",
    "   - **Insight**: Clothing remains the leading category, though total sales are slightly lower compared to the 23-27 age group. The consistent interest in clothing suggests it is a key area of expenditure.\n",
    "\n",
    "4. **Age Group 33-37**:\n",
    "   - **Top Product Category**: Beauty\n",
    "   - **Total Sales**: $19,675\n",
    "   \n",
    "   - **Average Sales per Item**: $728.70\n",
    "   - **Percent Contribution**: 35.73%\n",
    "   - **Insight**: The Beauty category performs well in this age range, with the highest average sales per item. This indicates a sustained interest in beauty products even as consumers age.\n",
    "\n",
    "5. **Age Group 38-42**:\n",
    "   - **Top Product Category**: Beauty\n",
    "   - **Total Sales**: $16,780\n",
    "   \n",
    "   - **Average Sales per Item**: $541.29\n",
    "   - **Percent Contribution**: 42.74%\n",
    "   - **Insight**: Beauty products continue to be a major category, showing strong performance in this age group with notable sales contributions.\n",
    "\n",
    "6. **Age Group 43-47**:\n",
    "   - **Top Product Category**: Beauty\n",
    "   - **Total Sales**: $21,190\n",
    "   \n",
    "   - **Average Sales per Item**: $529.75\n",
    "   - **Percent Contribution**: 36.88%\n",
    "   - **Insight**: Beauty remains the top category with significant total sales. This trend highlights ongoing consumer interest in beauty products among older adults.\n",
    "\n",
    "7. **Age Group 48-52**:\n",
    "   - **Top Product Category**: Electronics\n",
    "   - **Total Sales**: $17,745\n",
    "   \n",
    "   - **Average Sales per Item**: $394.33\n",
    "   - **Percent Contribution**: 39.17%\n",
    "   - **Insight**: Electronics is the leading category in this age group, indicating a preference for technology and gadgets among middle-aged consumers.\n",
    "\n",
    "8. **Age Group 53-57**:\n",
    "   - **Top Product Category**: Clothing\n",
    "   - **Total Sales**: $18,090\n",
    "   \n",
    "   - **Average Sales per Item**: $430.71\n",
    "   - **Percent Contribution**: 37.28%\n",
    "   - **Insight**: Clothing is the top category, continuing the trend observed in earlier age groups, with substantial sales and average purchase amounts.\n",
    "\n",
    "9. **Age Group 58-62**:\n",
    "   - **Top Product Category**: Electronics\n",
    "   - **Total Sales**: $20,180\n",
    "   \n",
    "   - **Average Sales per Item**: $630.63\n",
    "   - **Percent Contribution**: 46.60%\n",
    "   - **Insight**: Electronics tops the category performance in this age group, with the highest total sales and significant contribution percentage, reflecting a strong interest in electronics among older adults.\n",
    "\n",
    "10. **Age Group 63-64**:\n",
    "    - **Top Product Category**: Clothing\n",
    "    - **Total Sales**: $8,025\n",
    "    \n",
    "    - **Average Sales per Item**: $445.83\n",
    "    - **Percent Contribution**: 43.67%\n",
    "    - **Insight**: Clothing remains the dominant category, although with lower total sales compared to younger age groups. This indicates that clothing continues to be a preferred purchase even in the later years of life.\n",
    "    \n",
    "### SHARE Step\n",
    "\n",
    "In this section, we transition from analyzing data to effectively communicating our findings through visualizations. Visual representations are crucial for conveying complex data insights in a more digestible and impactful manner. By presenting the analysis results visually, we aim to not only answer the critical questions posed earlier but also to validate the objectives with clear, data-driven evidence.\n",
    "\n",
    "Through the following visualizations, we will:\n",
    "\n",
    "1. **Identify the most popular product categories** : We'll illustrate the performance of various product categories using bar charts to highlight the top sellers, making it easy to see which categories drive the most sales.\n",
    "\n",
    "2. **Analyze Product Categories by Age Group**: We'll segment sales data by age group and visualize the top-performing categories within each demographic. These charts will provide a clear understanding of how consumer preferences vary across different age groups.\n",
    "\n",
    "### Visualize of Objective 1. Indentify the most popularcategories\n",
    "\n",
    "In this sub-section, we will illustrate the performance of product categories using bar charts to highlight  which categories drive the most sales.\n",
    "\n",
    "#### Visualization using Bar Chart"
   ]
  },
  {
   "cell_type": "code",
   "execution_count": 20,
   "id": "f1eaee8e",
   "metadata": {
    "execution": {
     "iopub.execute_input": "2024-08-16T11:30:50.205282Z",
     "iopub.status.busy": "2024-08-16T11:30:50.203597Z",
     "iopub.status.idle": "2024-08-16T11:30:50.868716Z",
     "shell.execute_reply": "2024-08-16T11:30:50.865816Z"
    },
    "papermill": {
     "duration": 0.683867,
     "end_time": "2024-08-16T11:30:50.872148",
     "exception": false,
     "start_time": "2024-08-16T11:30:50.188281",
     "status": "completed"
    },
    "tags": []
   },
   "outputs": [
    {
     "data": {
      "image/png": "[encoded data removed]"
     },
     "metadata": {
      "image/png": {
       "height": 420,
       "width": 420
      }
     },
     "output_type": "display_data"
    }
   ],
   "source": [
    "ggplot(sales_by_category, aes(x = reorder(product_category, -TotalSales), y = TotalSales, fill = product_category)) +\n",
    "  geom_bar(stat = \"identity\") +\n",
    "  labs(title = \"Total Sales by Product Category\",\n",
    "       x = \"Product Category\",\n",
    "       y = \"Total Sales (USD)\") +\n",
    "  theme_minimal() +\n",
    "  theme(axis.text.x = element_text(angle = 45, hjust = 1)) +\n",
    "  scale_fill_brewer(palette = \"Set3\", name = \"Product Category\") +\n",
    "  coord_cartesian(ylim = c(140000, max(sales_by_category$TotalSales)))"
   ]
  },
  {
   "cell_type": "markdown",
   "id": "9ac6e46d",
   "metadata": {
    "papermill": {
     "duration": 0.022544,
     "end_time": "2024-08-16T11:30:50.909069",
     "exception": false,
     "start_time": "2024-08-16T11:30:50.886525",
     "status": "completed"
    },
    "tags": []
   },
   "source": [
    "#### Answer the Objective using Visualization\n",
    "\n",
    "From the result above, we can conclude that the electronics category is the most popular, leading with the highest total sales. This dominance suggests that consumer demand for technology and gadgets is particularly strong, making electronics a key driver of revenue in the retail market. Following closely behind are the clothing and beauty categories, which also show significant sales figures, indicating robust interest in these areas as well. Retailers may want to focus their marketing efforts and inventory management on these top-performing categories to maximize sales potential and cater to consumer preferences effectively.\n",
    "\n",
    "### Visualize of Objective 2. \n",
    "\n",
    "In this section, we present visualizations to explore how different age groups interact with various product categories. By segmenting the sales data and analyzing top-performing categories within each demographic, we gain valuable insights into consumer preferences across age groups.\n",
    "\n",
    "#### Bar chart of sales by age group and category"
   ]
  },
  {
   "cell_type": "code",
   "execution_count": 21,
   "id": "d790e17c",
   "metadata": {
    "execution": {
     "iopub.execute_input": "2024-08-16T11:30:50.943091Z",
     "iopub.status.busy": "2024-08-16T11:30:50.940453Z",
     "iopub.status.idle": "2024-08-16T11:30:52.353455Z",
     "shell.execute_reply": "2024-08-16T11:30:52.351447Z"
    },
    "papermill": {
     "duration": 1.432836,
     "end_time": "2024-08-16T11:30:52.356432",
     "exception": false,
     "start_time": "2024-08-16T11:30:50.923596",
     "status": "completed"
    },
    "tags": []
   },
   "outputs": [
    {
     "data": {
      "image/png": "[encoded data removed]"
     },
     "metadata": {
      "image/png": {
       "height": 420,
       "width": 420
      }
     },
     "output_type": "display_data"
    }
   ],
   "source": [
    "ggplot(sales_by_age_category, aes(x = reorder(product_category, -TotalSales), y = TotalSales, fill = product_category)) +\n",
    "  geom_bar(stat = \"identity\") +\n",
    "  facet_wrap(~ age_group, scales = \"free_y\") +\n",
    "  labs(title = \"Sales by Product Category Across Age Groups\",\n",
    "       x = \"Product Category\",\n",
    "       y = \"Total Sales (USD)\",\n",
    "       fill = \"Product Category\") +\n",
    "  theme_minimal() +\n",
    "  theme(axis.text.x = element_text(angle = 45, hjust = 1)) +\n",
    "  coord_cartesian(ylim = c(5000, max(sales_by_age_category$TotalSales)))"
   ]
  },
  {
   "cell_type": "markdown",
   "id": "8256f65f",
   "metadata": {
    "papermill": {
     "duration": 0.015792,
     "end_time": "2024-08-16T11:30:52.388044",
     "exception": false,
     "start_time": "2024-08-16T11:30:52.372252",
     "status": "completed"
    },
    "tags": []
   },
   "source": [
    "From the chart, we observe that the age group of 63-64 has limited representation in certain product categories, such as Beauty, where sales fall below 5,000 USD. This suggests that while some categories perform well, others might not be as relevant or appealing to older demographics.\n",
    "\n",
    "To provide a clearer view of top-performing categories for each age group, we also generate a specific bar chart focusing on the highest sales figures.\n",
    "\n",
    "\n",
    "#### Bar Chart of top sales each age group and category"
   ]
  },
  {
   "cell_type": "code",
   "execution_count": 22,
   "id": "fab2214f",
   "metadata": {
    "execution": {
     "iopub.execute_input": "2024-08-16T11:30:52.424082Z",
     "iopub.status.busy": "2024-08-16T11:30:52.422356Z",
     "iopub.status.idle": "2024-08-16T11:30:53.584629Z",
     "shell.execute_reply": "2024-08-16T11:30:53.581371Z"
    },
    "papermill": {
     "duration": 1.184832,
     "end_time": "2024-08-16T11:30:53.588469",
     "exception": false,
     "start_time": "2024-08-16T11:30:52.403637",
     "status": "completed"
    },
    "tags": []
   },
   "outputs": [
    {
     "data": {
      "image/png": "[encoded data removed]"
     },
     "metadata": {
      "image/png": {
       "height": 420,
       "width": 420
      }
     },
     "output_type": "display_data"
    }
   ],
   "source": [
    "ggplot(top_sales_by_age_category, aes(x = reorder(product_category, -TotalSales), y = TotalSales, fill = product_category)) +\n",
    "  geom_bar(stat = \"identity\") +\n",
    "  facet_wrap(~ age_group, scales = \"free_y\") +\n",
    "  labs(title = \"Top Product Categories by Age Group\",\n",
    "       x = \"Product Category\",\n",
    "       y = \"Total Sales (USD)\",\n",
    "       fill = \"Product Category\") +\n",
    "  theme_minimal() +\n",
    "  theme(axis.text.x = element_text(angle = 45, hjust = 1)) \n"
   ]
  },
  {
   "cell_type": "markdown",
   "id": "821dbbbf",
   "metadata": {
    "papermill": {
     "duration": 0.017503,
     "end_time": "2024-08-16T11:30:53.623699",
     "exception": false,
     "start_time": "2024-08-16T11:30:53.606196",
     "status": "completed"
    },
    "tags": []
   },
   "source": [
    "#### Visual the stacked bar chart by percentage contribution"
   ]
  },
  {
   "cell_type": "code",
   "execution_count": 23,
   "id": "bc886e9d",
   "metadata": {
    "execution": {
     "iopub.execute_input": "2024-08-16T11:30:53.661815Z",
     "iopub.status.busy": "2024-08-16T11:30:53.660077Z",
     "iopub.status.idle": "2024-08-16T11:30:54.007227Z",
     "shell.execute_reply": "2024-08-16T11:30:54.004016Z"
    },
    "papermill": {
     "duration": 0.369859,
     "end_time": "2024-08-16T11:30:54.010562",
     "exception": false,
     "start_time": "2024-08-16T11:30:53.640703",
     "status": "completed"
    },
    "tags": []
   },
   "outputs": [
    {
     "data": {
      "image/png": "[encoded data removed]"
     },
     "metadata": {
      "image/png": {
       "height": 420,
       "width": 420
      }
     },
     "output_type": "display_data"
    }
   ],
   "source": [
    "ggplot(sales_by_age_category, aes(x = age_group, y = PercentContribution, fill = product_category)) +\n",
    "  geom_bar(stat = \"identity\", position = \"stack\") +\n",
    "  labs(title = \"Percent Contribution by Product Category\",\n",
    "       subtitle = \"Stacked Bar Chart Showing Contribution Percentages Across Age Groups\",\n",
    "       x = \"Age Group\",\n",
    "       y = \"Percent Contribution (%)\",\n",
    "       fill = \"Product Category\") +\n",
    "  theme_minimal() +\n",
    "  theme(axis.text.x = element_text(angle = 45, hjust = 1)) +\n",
    "  scale_y_continuous(labels = scales::percent_format())"
   ]
  },
  {
   "cell_type": "markdown",
   "id": "4277e612",
   "metadata": {
    "papermill": {
     "duration": 0.018466,
     "end_time": "2024-08-16T11:30:54.048032",
     "exception": false,
     "start_time": "2024-08-16T11:30:54.029566",
     "status": "completed"
    },
    "tags": []
   },
   "source": [
    "print(sales_by_age_category)"
   ]
  },
  {
   "cell_type": "markdown",
   "id": "8e37d7a1",
   "metadata": {
    "papermill": {
     "duration": 0.018265,
     "end_time": "2024-08-16T11:30:54.084990",
     "exception": false,
     "start_time": "2024-08-16T11:30:54.066725",
     "status": "completed"
    },
    "tags": []
   },
   "source": [
    "The stacked bar chart illustrates the Percent Contribution of each product category to the total sales across different age groups. Each bar represents a specific age group and is divided into segments, where each segment corresponds to the contribution of a product category.\n",
    "From the result above, we can conclude:\n",
    "\n",
    "#### Answer the Objective using Visualization\n",
    "\n",
    "From the result above, we can conclude : \n",
    "\n",
    "1. **Age Group 18-22**: Beauty leads in total sales, indicating a strong preference among younger consumers for beauty and personal care products.\n",
    "\n",
    "2. **Age Group 23-27**: Clothing is the top category, reflecting a significant interest in fashion and apparel during these years.\n",
    "\n",
    "3. **Age Group 28-32**: Clothing remains dominant, though the sales figures are slightly lower, suggesting consistent interest but with slightly reduced expenditure.\n",
    "\n",
    "4. **Age Group 33-37**: Beauty products show strong performance with high average sales per item, highlighting ongoing consumer interest.\n",
    "\n",
    "5. **Age Group 38-42**: Beauty continues to perform well, indicating sustained interest in personal care products.\n",
    "\n",
    "6. **Age Group 43-47**: Beauty remains a leading category, demonstrating its ongoing relevance across various age groups.\n",
    "\n",
    "7. **Age Group 48-52**: Electronics emerge as the top category, showing a shift towards technology and gadgets in middle age.\n",
    "\n",
    "8. **Age Group 53-57**: Clothing leads again, reinforcing the trend seen in younger age groups.\n",
    "\n",
    "9. **Age Group 58-62**: Electronics top the charts, reflecting strong interest in technology among older adults.\n",
    "\n",
    "10. **Age Group 63-64**: Clothing is the leading category, though with lower sales compared to younger age groups, indicating that clothing remains a preferred choice even in the later years of life.\n"
   ]
  }
 ],
 "metadata": {
  "kaggle": {
   "accelerator": "none",
   "dataSources": [
    {
     "datasetId": 3655505,
     "sourceId": 6347913,
     "sourceType": "datasetVersion"
    }
   ],
   "dockerImageVersionId": 30749,
   "isGpuEnabled": false,
   "isInternetEnabled": false,
   "language": "r",
   "sourceType": "notebook"
  },
  "kernelspec": {
   "display_name": "Python 3 (ipykernel)",
   "language": "python",
   "name": "python3"
  },
  "language_info": {
   "codemirror_mode": {
    "name": "ipython",
    "version": 3
   },
   "file_extension": ".py",
   "mimetype": "text/x-python",
   "name": "python",
   "nbconvert_exporter": "python",
   "pygments_lexer": "ipython3",
   "version": "3.11.6"
  },
  "papermill": {
   "default_parameters": {},
   "duration": 10.618162,
   "end_time": "2024-08-16T11:30:54.227258",
   "environment_variables": {},
   "exception": null,
   "input_path": "__notebook__.ipynb",
   "output_path": "__notebook__.ipynb",
   "parameters": {},
   "start_time": "2024-08-16T11:30:43.609096",
   "version": "2.6.0"
  }
 },
 "nbformat": 4,
 "nbformat_minor": 5
}
